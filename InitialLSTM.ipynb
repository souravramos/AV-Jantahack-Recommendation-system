{
  "nbformat": 4,
  "nbformat_minor": 0,
  "metadata": {
    "colab": {
      "name": "InitialLSTM.ipynb",
      "provenance": []
    },
    "kernelspec": {
      "name": "python3",
      "display_name": "Python 3"
    },
    "accelerator": "GPU"
  },
  "cells": [
    {
      "cell_type": "code",
      "metadata": {
        "id": "gnaUcx96LXY-",
        "colab_type": "code",
        "colab": {
          "base_uri": "https://localhost:8080/",
          "height": 128
        },
        "outputId": "33b7a011-f5e0-4fcc-e843-6c8ea90773a1"
      },
      "source": [
        "from google.colab import drive\n",
        "drive.mount('/content/drive')"
      ],
      "execution_count": 1,
      "outputs": [
        {
          "output_type": "stream",
          "text": [
            "Go to this URL in a browser: https://accounts.google.com/o/oauth2/auth?client_id=947318989803-6bn6qk8qdgf4n4g3pfee6491hc0brc4i.apps.googleusercontent.com&redirect_uri=urn%3aietf%3awg%3aoauth%3a2.0%3aoob&response_type=code&scope=email%20https%3a%2f%2fwww.googleapis.com%2fauth%2fdocs.test%20https%3a%2f%2fwww.googleapis.com%2fauth%2fdrive%20https%3a%2f%2fwww.googleapis.com%2fauth%2fdrive.photos.readonly%20https%3a%2f%2fwww.googleapis.com%2fauth%2fpeopleapi.readonly\n",
            "\n",
            "Enter your authorization code:\n",
            "··········\n",
            "Mounted at /content/drive\n"
          ],
          "name": "stdout"
        }
      ]
    },
    {
      "cell_type": "code",
      "metadata": {
        "id": "rbTQ48h2MRby",
        "colab_type": "code",
        "colab": {
          "base_uri": "https://localhost:8080/",
          "height": 35
        },
        "outputId": "f403955e-86d5-432a-d538-8910da77df4d"
      },
      "source": [
        "import pandas as pd\n",
        "import tensorflow as tf\n",
        "\n",
        "\n",
        "from tensorflow.keras.preprocessing.sequence import pad_sequences\n",
        "from tensorflow.keras.layers import Embedding, LSTM, Dense, Dropout, Bidirectional, Conv2D, GlobalMaxPooling2D, SimpleRNN\n",
        "from tensorflow.keras.preprocessing.text import Tokenizer\n",
        "from tensorflow.keras.models import Sequential\n",
        "from tensorflow.keras.optimizers import Adam\n",
        "from tensorflow.keras import regularizers\n",
        "\n",
        "from keras.utils import np_utils\n",
        "import numpy as np\n",
        "from sklearn.preprocessing import LabelEncoder\n",
        "\n"
      ],
      "execution_count": 2,
      "outputs": [
        {
          "output_type": "stream",
          "text": [
            "Using TensorFlow backend.\n"
          ],
          "name": "stderr"
        }
      ]
    },
    {
      "cell_type": "code",
      "metadata": {
        "id": "DPhuljL3OSgE",
        "colab_type": "code",
        "colab": {}
      },
      "source": [
        "challenge_data = pd.read_csv('drive/My Drive/Colab Notebooks/Recommender Systems/JanataHack/challenge_data.csv')\n",
        "train = pd.read_csv('drive/My Drive/Colab Notebooks/Recommender Systems/JanataHack/train.csv')\n",
        "test = pd.read_csv('drive/My Drive/Colab Notebooks/Recommender Systems/JanataHack/test.csv')\n",
        "sub = pd.read_csv('drive/My Drive/Colab Notebooks/Recommender Systems/JanataHack/sample_submission.csv')\n"
      ],
      "execution_count": 3,
      "outputs": []
    },
    {
      "cell_type": "code",
      "metadata": {
        "id": "TzNWEo4XO-9U",
        "colab_type": "code",
        "colab": {
          "base_uri": "https://localhost:8080/",
          "height": 457
        },
        "outputId": "20d6c738-06de-4ac9-831f-b331a3b2fd8c"
      },
      "source": [
        "train.head(13)"
      ],
      "execution_count": 4,
      "outputs": [
        {
          "output_type": "execute_result",
          "data": {
            "text/html": [
              "<div>\n",
              "<style scoped>\n",
              "    .dataframe tbody tr th:only-of-type {\n",
              "        vertical-align: middle;\n",
              "    }\n",
              "\n",
              "    .dataframe tbody tr th {\n",
              "        vertical-align: top;\n",
              "    }\n",
              "\n",
              "    .dataframe thead th {\n",
              "        text-align: right;\n",
              "    }\n",
              "</style>\n",
              "<table border=\"1\" class=\"dataframe\">\n",
              "  <thead>\n",
              "    <tr style=\"text-align: right;\">\n",
              "      <th></th>\n",
              "      <th>user_sequence</th>\n",
              "      <th>user_id</th>\n",
              "      <th>challenge_sequence</th>\n",
              "      <th>challenge</th>\n",
              "    </tr>\n",
              "  </thead>\n",
              "  <tbody>\n",
              "    <tr>\n",
              "      <th>0</th>\n",
              "      <td>4576_1</td>\n",
              "      <td>4576</td>\n",
              "      <td>1</td>\n",
              "      <td>CI23714</td>\n",
              "    </tr>\n",
              "    <tr>\n",
              "      <th>1</th>\n",
              "      <td>4576_2</td>\n",
              "      <td>4576</td>\n",
              "      <td>2</td>\n",
              "      <td>CI23855</td>\n",
              "    </tr>\n",
              "    <tr>\n",
              "      <th>2</th>\n",
              "      <td>4576_3</td>\n",
              "      <td>4576</td>\n",
              "      <td>3</td>\n",
              "      <td>CI24917</td>\n",
              "    </tr>\n",
              "    <tr>\n",
              "      <th>3</th>\n",
              "      <td>4576_4</td>\n",
              "      <td>4576</td>\n",
              "      <td>4</td>\n",
              "      <td>CI23663</td>\n",
              "    </tr>\n",
              "    <tr>\n",
              "      <th>4</th>\n",
              "      <td>4576_5</td>\n",
              "      <td>4576</td>\n",
              "      <td>5</td>\n",
              "      <td>CI23933</td>\n",
              "    </tr>\n",
              "    <tr>\n",
              "      <th>5</th>\n",
              "      <td>4576_6</td>\n",
              "      <td>4576</td>\n",
              "      <td>6</td>\n",
              "      <td>CI25135</td>\n",
              "    </tr>\n",
              "    <tr>\n",
              "      <th>6</th>\n",
              "      <td>4576_7</td>\n",
              "      <td>4576</td>\n",
              "      <td>7</td>\n",
              "      <td>CI23975</td>\n",
              "    </tr>\n",
              "    <tr>\n",
              "      <th>7</th>\n",
              "      <td>4576_8</td>\n",
              "      <td>4576</td>\n",
              "      <td>8</td>\n",
              "      <td>CI25126</td>\n",
              "    </tr>\n",
              "    <tr>\n",
              "      <th>8</th>\n",
              "      <td>4576_9</td>\n",
              "      <td>4576</td>\n",
              "      <td>9</td>\n",
              "      <td>CI24915</td>\n",
              "    </tr>\n",
              "    <tr>\n",
              "      <th>9</th>\n",
              "      <td>4576_10</td>\n",
              "      <td>4576</td>\n",
              "      <td>10</td>\n",
              "      <td>CI24957</td>\n",
              "    </tr>\n",
              "    <tr>\n",
              "      <th>10</th>\n",
              "      <td>4576_11</td>\n",
              "      <td>4576</td>\n",
              "      <td>11</td>\n",
              "      <td>CI24958</td>\n",
              "    </tr>\n",
              "    <tr>\n",
              "      <th>11</th>\n",
              "      <td>4576_12</td>\n",
              "      <td>4576</td>\n",
              "      <td>12</td>\n",
              "      <td>CI23667</td>\n",
              "    </tr>\n",
              "    <tr>\n",
              "      <th>12</th>\n",
              "      <td>4576_13</td>\n",
              "      <td>4576</td>\n",
              "      <td>13</td>\n",
              "      <td>CI23691</td>\n",
              "    </tr>\n",
              "  </tbody>\n",
              "</table>\n",
              "</div>"
            ],
            "text/plain": [
              "   user_sequence  user_id  challenge_sequence challenge\n",
              "0         4576_1     4576                   1   CI23714\n",
              "1         4576_2     4576                   2   CI23855\n",
              "2         4576_3     4576                   3   CI24917\n",
              "3         4576_4     4576                   4   CI23663\n",
              "4         4576_5     4576                   5   CI23933\n",
              "5         4576_6     4576                   6   CI25135\n",
              "6         4576_7     4576                   7   CI23975\n",
              "7         4576_8     4576                   8   CI25126\n",
              "8         4576_9     4576                   9   CI24915\n",
              "9        4576_10     4576                  10   CI24957\n",
              "10       4576_11     4576                  11   CI24958\n",
              "11       4576_12     4576                  12   CI23667\n",
              "12       4576_13     4576                  13   CI23691"
            ]
          },
          "metadata": {
            "tags": []
          },
          "execution_count": 4
        }
      ]
    },
    {
      "cell_type": "code",
      "metadata": {
        "id": "n-48bsIXOnZP",
        "colab_type": "code",
        "colab": {}
      },
      "source": [
        "train.drop('user_sequence', axis=1, inplace=True)\n",
        "test.drop('user_sequence', axis=1, inplace=True)"
      ],
      "execution_count": 5,
      "outputs": []
    },
    {
      "cell_type": "code",
      "metadata": {
        "id": "ynHFiPvuPKF3",
        "colab_type": "code",
        "colab": {
          "base_uri": "https://localhost:8080/",
          "height": 424
        },
        "outputId": "19c094fb-a5cb-4e47-c0ef-ad1ad607561b"
      },
      "source": [
        "train"
      ],
      "execution_count": 6,
      "outputs": [
        {
          "output_type": "execute_result",
          "data": {
            "text/html": [
              "<div>\n",
              "<style scoped>\n",
              "    .dataframe tbody tr th:only-of-type {\n",
              "        vertical-align: middle;\n",
              "    }\n",
              "\n",
              "    .dataframe tbody tr th {\n",
              "        vertical-align: top;\n",
              "    }\n",
              "\n",
              "    .dataframe thead th {\n",
              "        text-align: right;\n",
              "    }\n",
              "</style>\n",
              "<table border=\"1\" class=\"dataframe\">\n",
              "  <thead>\n",
              "    <tr style=\"text-align: right;\">\n",
              "      <th></th>\n",
              "      <th>user_id</th>\n",
              "      <th>challenge_sequence</th>\n",
              "      <th>challenge</th>\n",
              "    </tr>\n",
              "  </thead>\n",
              "  <tbody>\n",
              "    <tr>\n",
              "      <th>0</th>\n",
              "      <td>4576</td>\n",
              "      <td>1</td>\n",
              "      <td>CI23714</td>\n",
              "    </tr>\n",
              "    <tr>\n",
              "      <th>1</th>\n",
              "      <td>4576</td>\n",
              "      <td>2</td>\n",
              "      <td>CI23855</td>\n",
              "    </tr>\n",
              "    <tr>\n",
              "      <th>2</th>\n",
              "      <td>4576</td>\n",
              "      <td>3</td>\n",
              "      <td>CI24917</td>\n",
              "    </tr>\n",
              "    <tr>\n",
              "      <th>3</th>\n",
              "      <td>4576</td>\n",
              "      <td>4</td>\n",
              "      <td>CI23663</td>\n",
              "    </tr>\n",
              "    <tr>\n",
              "      <th>4</th>\n",
              "      <td>4576</td>\n",
              "      <td>5</td>\n",
              "      <td>CI23933</td>\n",
              "    </tr>\n",
              "    <tr>\n",
              "      <th>...</th>\n",
              "      <td>...</td>\n",
              "      <td>...</td>\n",
              "      <td>...</td>\n",
              "    </tr>\n",
              "    <tr>\n",
              "      <th>903911</th>\n",
              "      <td>113839</td>\n",
              "      <td>9</td>\n",
              "      <td>CI24992</td>\n",
              "    </tr>\n",
              "    <tr>\n",
              "      <th>903912</th>\n",
              "      <td>113839</td>\n",
              "      <td>10</td>\n",
              "      <td>CI28586</td>\n",
              "    </tr>\n",
              "    <tr>\n",
              "      <th>903913</th>\n",
              "      <td>113839</td>\n",
              "      <td>11</td>\n",
              "      <td>CI28610</td>\n",
              "    </tr>\n",
              "    <tr>\n",
              "      <th>903914</th>\n",
              "      <td>113839</td>\n",
              "      <td>12</td>\n",
              "      <td>CI26388</td>\n",
              "    </tr>\n",
              "    <tr>\n",
              "      <th>903915</th>\n",
              "      <td>113839</td>\n",
              "      <td>13</td>\n",
              "      <td>CI28630</td>\n",
              "    </tr>\n",
              "  </tbody>\n",
              "</table>\n",
              "<p>903916 rows × 3 columns</p>\n",
              "</div>"
            ],
            "text/plain": [
              "        user_id  challenge_sequence challenge\n",
              "0          4576                   1   CI23714\n",
              "1          4576                   2   CI23855\n",
              "2          4576                   3   CI24917\n",
              "3          4576                   4   CI23663\n",
              "4          4576                   5   CI23933\n",
              "...         ...                 ...       ...\n",
              "903911   113839                   9   CI24992\n",
              "903912   113839                  10   CI28586\n",
              "903913   113839                  11   CI28610\n",
              "903914   113839                  12   CI26388\n",
              "903915   113839                  13   CI28630\n",
              "\n",
              "[903916 rows x 3 columns]"
            ]
          },
          "metadata": {
            "tags": []
          },
          "execution_count": 6
        }
      ]
    },
    {
      "cell_type": "code",
      "metadata": {
        "id": "5Q06oG86PM3j",
        "colab_type": "code",
        "colab": {}
      },
      "source": [
        "concat_train = train.groupby(\"user_id\").agg({\"challenge\": lambda x: ' '.join(set(x.dropna()))})"
      ],
      "execution_count": 7,
      "outputs": []
    },
    {
      "cell_type": "code",
      "metadata": {
        "id": "J_Bcu1zIQcVY",
        "colab_type": "code",
        "colab": {
          "base_uri": "https://localhost:8080/",
          "height": 35
        },
        "outputId": "8e12371e-3dc9-454e-aba9-ee1aadc83cb8"
      },
      "source": [
        "list(concat_train.iloc[0])"
      ],
      "execution_count": 8,
      "outputs": [
        {
          "output_type": "execute_result",
          "data": {
            "text/plain": [
              "['CI23933 CI25126 CI24915 CI23975 CI23667 CI23691 CI24958 CI24957 CI25135 CI23855 CI23714 CI23663 CI24917']"
            ]
          },
          "metadata": {
            "tags": []
          },
          "execution_count": 8
        }
      ]
    },
    {
      "cell_type": "code",
      "metadata": {
        "id": "0CC5yuk6QdBy",
        "colab_type": "code",
        "colab": {
          "base_uri": "https://localhost:8080/",
          "height": 35
        },
        "outputId": "77d72ad4-7806-4767-f9ac-4052d2f5b218"
      },
      "source": [
        "concat_train.shape"
      ],
      "execution_count": 9,
      "outputs": [
        {
          "output_type": "execute_result",
          "data": {
            "text/plain": [
              "(69532, 1)"
            ]
          },
          "metadata": {
            "tags": []
          },
          "execution_count": 9
        }
      ]
    },
    {
      "cell_type": "code",
      "metadata": {
        "id": "Nxm4OjBLSt6q",
        "colab_type": "code",
        "colab": {
          "base_uri": "https://localhost:8080/",
          "height": 237
        },
        "outputId": "cbd8011d-6bbd-4e39-e37c-3d5605539301"
      },
      "source": [
        "concat_train.head()"
      ],
      "execution_count": 10,
      "outputs": [
        {
          "output_type": "execute_result",
          "data": {
            "text/html": [
              "<div>\n",
              "<style scoped>\n",
              "    .dataframe tbody tr th:only-of-type {\n",
              "        vertical-align: middle;\n",
              "    }\n",
              "\n",
              "    .dataframe tbody tr th {\n",
              "        vertical-align: top;\n",
              "    }\n",
              "\n",
              "    .dataframe thead th {\n",
              "        text-align: right;\n",
              "    }\n",
              "</style>\n",
              "<table border=\"1\" class=\"dataframe\">\n",
              "  <thead>\n",
              "    <tr style=\"text-align: right;\">\n",
              "      <th></th>\n",
              "      <th>challenge</th>\n",
              "    </tr>\n",
              "    <tr>\n",
              "      <th>user_id</th>\n",
              "      <th></th>\n",
              "    </tr>\n",
              "  </thead>\n",
              "  <tbody>\n",
              "    <tr>\n",
              "      <th>4576</th>\n",
              "      <td>CI23933 CI25126 CI24915 CI23975 CI23667 CI2369...</td>\n",
              "    </tr>\n",
              "    <tr>\n",
              "      <th>4580</th>\n",
              "      <td>CI23933 CI25727 CI23648 CI24915 CI23975 CI2371...</td>\n",
              "    </tr>\n",
              "    <tr>\n",
              "      <th>4581</th>\n",
              "      <td>CI26158 CI26163 CI26159 CI26164 CI26166 CI2615...</td>\n",
              "    </tr>\n",
              "    <tr>\n",
              "      <th>4582</th>\n",
              "      <td>CI23933 CI24915 CI23975 CI23714 CI26051 CI2495...</td>\n",
              "    </tr>\n",
              "    <tr>\n",
              "      <th>4585</th>\n",
              "      <td>CI23933 CI25126 CI24915 CI23975 CI24958 CI2384...</td>\n",
              "    </tr>\n",
              "  </tbody>\n",
              "</table>\n",
              "</div>"
            ],
            "text/plain": [
              "                                                 challenge\n",
              "user_id                                                   \n",
              "4576     CI23933 CI25126 CI24915 CI23975 CI23667 CI2369...\n",
              "4580     CI23933 CI25727 CI23648 CI24915 CI23975 CI2371...\n",
              "4581     CI26158 CI26163 CI26159 CI26164 CI26166 CI2615...\n",
              "4582     CI23933 CI24915 CI23975 CI23714 CI26051 CI2495...\n",
              "4585     CI23933 CI25126 CI24915 CI23975 CI24958 CI2384..."
            ]
          },
          "metadata": {
            "tags": []
          },
          "execution_count": 10
        }
      ]
    },
    {
      "cell_type": "code",
      "metadata": {
        "id": "h2-98nWCS7kS",
        "colab_type": "code",
        "colab": {}
      },
      "source": [
        "concat_train = concat_train.reset_index(drop=True)"
      ],
      "execution_count": 11,
      "outputs": []
    },
    {
      "cell_type": "code",
      "metadata": {
        "id": "hWsqmwPETRQN",
        "colab_type": "code",
        "colab": {
          "base_uri": "https://localhost:8080/",
          "height": 206
        },
        "outputId": "79a28c7b-5558-4b01-a718-25753e02439e"
      },
      "source": [
        "concat_train.head()"
      ],
      "execution_count": 12,
      "outputs": [
        {
          "output_type": "execute_result",
          "data": {
            "text/html": [
              "<div>\n",
              "<style scoped>\n",
              "    .dataframe tbody tr th:only-of-type {\n",
              "        vertical-align: middle;\n",
              "    }\n",
              "\n",
              "    .dataframe tbody tr th {\n",
              "        vertical-align: top;\n",
              "    }\n",
              "\n",
              "    .dataframe thead th {\n",
              "        text-align: right;\n",
              "    }\n",
              "</style>\n",
              "<table border=\"1\" class=\"dataframe\">\n",
              "  <thead>\n",
              "    <tr style=\"text-align: right;\">\n",
              "      <th></th>\n",
              "      <th>challenge</th>\n",
              "    </tr>\n",
              "  </thead>\n",
              "  <tbody>\n",
              "    <tr>\n",
              "      <th>0</th>\n",
              "      <td>CI23933 CI25126 CI24915 CI23975 CI23667 CI2369...</td>\n",
              "    </tr>\n",
              "    <tr>\n",
              "      <th>1</th>\n",
              "      <td>CI23933 CI25727 CI23648 CI24915 CI23975 CI2371...</td>\n",
              "    </tr>\n",
              "    <tr>\n",
              "      <th>2</th>\n",
              "      <td>CI26158 CI26163 CI26159 CI26164 CI26166 CI2615...</td>\n",
              "    </tr>\n",
              "    <tr>\n",
              "      <th>3</th>\n",
              "      <td>CI23933 CI24915 CI23975 CI23714 CI26051 CI2495...</td>\n",
              "    </tr>\n",
              "    <tr>\n",
              "      <th>4</th>\n",
              "      <td>CI23933 CI25126 CI24915 CI23975 CI24958 CI2384...</td>\n",
              "    </tr>\n",
              "  </tbody>\n",
              "</table>\n",
              "</div>"
            ],
            "text/plain": [
              "                                           challenge\n",
              "0  CI23933 CI25126 CI24915 CI23975 CI23667 CI2369...\n",
              "1  CI23933 CI25727 CI23648 CI24915 CI23975 CI2371...\n",
              "2  CI26158 CI26163 CI26159 CI26164 CI26166 CI2615...\n",
              "3  CI23933 CI24915 CI23975 CI23714 CI26051 CI2495...\n",
              "4  CI23933 CI25126 CI24915 CI23975 CI24958 CI2384..."
            ]
          },
          "metadata": {
            "tags": []
          },
          "execution_count": 12
        }
      ]
    },
    {
      "cell_type": "code",
      "metadata": {
        "id": "CUqtC95OTTVV",
        "colab_type": "code",
        "colab": {
          "base_uri": "https://localhost:8080/",
          "height": 235
        },
        "outputId": "a1d94d92-9737-4f01-86ee-bed0f6b15716"
      },
      "source": [
        "concat_train['challenge']"
      ],
      "execution_count": 13,
      "outputs": [
        {
          "output_type": "execute_result",
          "data": {
            "text/plain": [
              "0        CI23933 CI25126 CI24915 CI23975 CI23667 CI2369...\n",
              "1        CI23933 CI25727 CI23648 CI24915 CI23975 CI2371...\n",
              "2        CI26158 CI26163 CI26159 CI26164 CI26166 CI2615...\n",
              "3        CI23933 CI24915 CI23975 CI23714 CI26051 CI2495...\n",
              "4        CI23933 CI25126 CI24915 CI23975 CI24958 CI2384...\n",
              "                               ...                        \n",
              "69527    CI23933 CI24521 CI24876 CI24438 CI24445 CI2443...\n",
              "69528    CI25258 CI23933 CI25023 CI25022 CI24866 CI2502...\n",
              "69529    CI25053 CI24230 CI26920 CI26051 CI23999 CI2495...\n",
              "69530    CI26052 CI23880 CI25049 CI23933 CI24876 CI2399...\n",
              "69531    CI28586 CI25727 CI28610 CI28328 CI24954 CI2491...\n",
              "Name: challenge, Length: 69532, dtype: object"
            ]
          },
          "metadata": {
            "tags": []
          },
          "execution_count": 13
        }
      ]
    },
    {
      "cell_type": "code",
      "metadata": {
        "id": "Oe0r_OtbTccB",
        "colab_type": "code",
        "colab": {}
      },
      "source": [
        "outF = open('concat_train.txt', 'w')\n",
        "for i in concat_train['challenge'].values:\n",
        "  outF.write(i)\n",
        "  outF.write('\\n')\n",
        "outF.close()"
      ],
      "execution_count": 14,
      "outputs": []
    },
    {
      "cell_type": "code",
      "metadata": {
        "id": "CfaLWTL4Tzgu",
        "colab_type": "code",
        "colab": {
          "base_uri": "https://localhost:8080/",
          "height": 73
        },
        "outputId": "6439694e-cfce-44d3-962b-0c2edb147058"
      },
      "source": [
        "tokenizer = Tokenizer()\n",
        "\n",
        "data = open('concat_train.txt').read()\n",
        "\n",
        "corpus = data.lower().split('\\n')\n",
        "\n",
        "tokenizer.fit_on_texts(corpus)\n",
        "total_words = len(tokenizer.word_index) + 1\n",
        "\n",
        "print(tokenizer.word_index)\n",
        "print(total_words)"
      ],
      "execution_count": 15,
      "outputs": [
        {
          "output_type": "stream",
          "text": [
            "{'ci23855': 1, 'ci23714': 2, 'ci24917': 3, 'ci23663': 4, 'ci24958': 5, 'ci23933': 6, 'ci25135': 7, 'ci24530': 8, 'ci23691': 9, 'ci23848': 10, 'ci25126': 11, 'ci24876': 12, 'ci23769': 13, 'ci24915': 14, 'ci24527': 15, 'ci25075': 16, 'ci24534': 17, 'ci23975': 18, 'ci23648': 19, 'ci25141': 20, 'ci24187': 21, 'ci24138': 22, 'ci25124': 23, 'ci24228': 24, 'ci24968': 25, 'ci24866': 26, 'ci26925': 27, 'ci23913': 28, 'ci24261': 29, 'ci24953': 30, 'ci25142': 31, 'ci24532': 32, 'ci24868': 33, 'ci26051': 34, 'ci24957': 35, 'ci26910': 36, 'ci23667': 37, 'ci24875': 38, 'ci26915': 39, 'ci26930': 40, 'ci26923': 41, 'ci25074': 42, 'ci25125': 43, 'ci24531': 44, 'ci26221': 45, 'ci24440': 46, 'ci25140': 47, 'ci24418': 48, 'ci26916': 49, 'ci26902': 50, 'ci26220': 51, 'ci23880': 52, 'ci26931': 53, 'ci23887': 54, 'ci23856': 55, 'ci25057': 56, 'ci26219': 57, 'ci26052': 58, 'ci26217': 59, 'ci23770': 60, 'ci26903': 61, 'ci24031': 62, 'ci26927': 63, 'ci26918': 64, 'ci25056': 65, 'ci26922': 66, 'ci24230': 67, 'ci23836': 68, 'ci23612': 69, 'ci26913': 70, 'ci24184': 71, 'ci26917': 72, 'ci24421': 73, 'ci26216': 74, 'ci26926': 75, 'ci24867': 76, 'ci26911': 77, 'ci24871': 78, 'ci26914': 79, 'ci24117': 80, 'ci26210': 81, 'ci26912': 82, 'ci26921': 83, 'ci25175': 84, 'ci26904': 85, 'ci26218': 86, 'ci23702': 87, 'ci26907': 88, 'ci24956': 89, 'ci24206': 90, 'ci24252': 91, 'ci26050': 92, 'ci26211': 93, 'ci26905': 94, 'ci25123': 95, 'ci26213': 96, 'ci26909': 97, 'ci24690': 98, 'ci26920': 99, 'ci23781': 100, 'ci25149': 101, 'ci25143': 102, 'ci27681': 103, 'ci25727': 104, 'ci24525': 105, 'ci25106': 106, 'ci26928': 107, 'ci24522': 108, 'ci26214': 109, 'ci26929': 110, 'ci24081': 111, 'ci27682': 112, 'ci24426': 113, 'ci23546': 114, 'ci26934': 115, 'ci24944': 116, 'ci24533': 117, 'ci24348': 118, 'ci25022': 119, 'ci24873': 120, 'ci26208': 121, 'ci26908': 122, 'ci24257': 123, 'ci26932': 124, 'ci27680': 125, 'ci27046': 126, 'ci24621': 127, 'ci23999': 128, 'ci27047': 129, 'ci24120': 130, 'ci25107': 131, 'ci25295': 132, 'ci24955': 133, 'ci25105': 134, 'ci27678': 135, 'ci26204': 136, 'ci26205': 137, 'ci27051': 138, 'ci27282': 139, 'ci24521': 140, 'ci24962': 141, 'ci27679': 142, 'ci26174': 143, 'ci24931': 144, 'ci25108': 145, 'ci26212': 146, 'ci27050': 147, 'ci26209': 148, 'ci23929': 149, 'ci24139': 150, 'ci24188': 151, 'ci26906': 152, 'ci27049': 153, 'ci23932': 154, 'ci26203': 155, 'ci25024': 156, 'ci25110': 157, 'ci26937': 158, 'ci24672': 159, 'ci24491': 160, 'ci27044': 161, 'ci26202': 162, 'ci27045': 163, 'ci24435': 164, 'ci26173': 165, 'ci23688': 166, 'ci26919': 167, 'ci23662': 168, 'ci25180': 169, 'ci26171': 170, 'ci23697': 171, 'ci24239': 172, 'ci28586': 173, 'ci27676': 174, 'ci23839': 175, 'ci27677': 176, 'ci24030': 177, 'ci28567': 178, 'ci24535': 179, 'ci27043': 180, 'ci25634': 181, 'ci24969': 182, 'ci27674': 183, 'ci24692': 184, 'ci28569': 185, 'ci24459': 186, 'ci23922': 187, 'ci26206': 188, 'ci25136': 189, 'ci26176': 190, 'ci26164': 191, 'ci26167': 192, 'ci27811': 193, 'ci24225': 194, 'ci27670': 195, 'ci27673': 196, 'ci25302': 197, 'ci27675': 198, 'ci25172': 199, 'ci26924': 200, 'ci24438': 201, 'ci24992': 202, 'ci26933': 203, 'ci27669': 204, 'ci27809': 205, 'ci25150': 206, 'ci24448': 207, 'ci24950': 208, 'ci26169': 209, 'ci24461': 210, 'ci26198': 211, 'ci26165': 212, 'ci27038': 213, 'ci25062': 214, 'ci26215': 215, 'ci25139': 216, 'ci23791': 217, 'ci24930': 218, 'ci26162': 219, 'ci27048': 220, 'ci26201': 221, 'ci26155': 222, 'ci26936': 223, 'ci26935': 224, 'ci26855': 225, 'ci24529': 226, 'ci28578': 227, 'ci26200': 228, 'ci27668': 229, 'ci26196': 230, 'ci24121': 231, 'ci23790': 232, 'ci26199': 233, 'ci24150': 234, 'ci28581': 235, 'ci25093': 236, 'ci26856': 237, 'ci27807': 238, 'ci26858': 239, 'ci24493': 240, 'ci26175': 241, 'ci23653': 242, 'ci26877': 243, 'ci27810': 244, 'ci24954': 245, 'ci28583': 246, 'ci24231': 247, 'ci24273': 248, 'ci26157': 249, 'ci24437': 250, 'ci26159': 251, 'ci27806': 252, 'ci24524': 253, 'ci27042': 254, 'ci24003': 255, 'ci24029': 256, 'ci24872': 257, 'ci26058': 258, 'ci26166': 259, 'ci28568': 260, 'ci26158': 261, 'ci26954': 262, 'ci26170': 263, 'ci26197': 264, 'ci25132': 265, 'ci24373': 266, 'ci24175': 267, 'ci25054': 268, 'ci25179': 269, 'ci27040': 270, 'ci27663': 271, 'ci27805': 272, 'ci28585': 273, 'ci25507': 274, 'ci26207': 275, 'ci25733': 276, 'ci27798': 277, 'ci26054': 278, 'ci28570': 279, 'ci26168': 280, 'ci26156': 281, 'ci27039': 282, 'ci27648': 283, 'ci27671': 284, 'ci26873': 285, 'ci24895': 286, 'ci28572': 287, 'ci26938': 288, 'ci26857': 289, 'ci26195': 290, 'ci27808': 291, 'ci28574': 292, 'ci26055': 293, 'ci25177': 294, 'ci26875': 295, 'ci24436': 296, 'ci26160': 297, 'ci27036': 298, 'ci24362': 299, 'ci27644': 300, 'ci27137': 301, 'ci24891': 302, 'ci26870': 303, 'ci26820': 304, 'ci24604': 305, 'ci26876': 306, 'ci25815': 307, 'ci27797': 308, 'ci26984': 309, 'ci26958': 310, 'ci23780': 311, 'ci27664': 312, 'ci24445': 313, 'ci26955': 314, 'ci26161': 315, 'ci26953': 316, 'ci27801': 317, 'ci26960': 318, 'ci25053': 319, 'ci24916': 320, 'ci24359': 321, 'ci24927': 322, 'ci26872': 323, 'ci25769': 324, 'ci27666': 325, 'ci27037': 326, 'ci28582': 327, 'ci24109': 328, 'ci26194': 329, 'ci25029': 330, 'ci25127': 331, 'ci24107': 332, 'ci26961': 333, 'ci25501': 334, 'ci26959': 335, 'ci25073': 336, 'ci26859': 337, 'ci24349': 338, 'ci26154': 339, 'ci24892': 340, 'ci26956': 341, 'ci27005': 342, 'ci27799': 343, 'ci24942': 344, 'ci28573': 345, 'ci27796': 346, 'ci23840': 347, 'ci25103': 348, 'ci27665': 349, 'ci27041': 350, 'ci24141': 351, 'ci26862': 352, 'ci24447': 353, 'ci26163': 354, 'ci24865': 355, 'ci26056': 356, 'ci25055': 357, 'ci26939': 358, 'ci26866': 359, 'ci27661': 360, 'ci27660': 361, 'ci27795': 362, 'ci26899': 363, 'ci27794': 364, 'ci26874': 365, 'ci28576': 366, 'ci27662': 367, 'ci25058': 368, 'ci24099': 369, 'ci28584': 370, 'ci25361': 371, 'ci24111': 372, 'ci26952': 373, 'ci27659': 374, 'ci26957': 375, 'ci27782': 376, 'ci26871': 377, 'ci23805': 378, 'ci24943': 379, 'ci26191': 380, 'ci27035': 381, 'ci25109': 382, 'ci28571': 383, 'ci26172': 384, 'ci26193': 385, 'ci26059': 386, 'ci24374': 387, 'ci24420': 388, 'ci24670': 389, 'ci24701': 390, 'ci25117': 391, 'ci24679': 392, 'ci24935': 393, 'ci24860': 394, 'ci26951': 395, 'ci23994': 396, 'ci26861': 397, 'ci26192': 398, 'ci27667': 399, 'ci27456': 400, 'ci27006': 401, 'ci24094': 402, 'ci27792': 403, 'ci23830': 404, 'ci27658': 405, 'ci27802': 406, 'ci23782': 407, 'ci27779': 408, 'ci26060': 409, 'ci24024': 410, 'ci27656': 411, 'ci23921': 412, 'ci27004': 413, 'ci26949': 414, 'ci28190': 415, 'ci26898': 416, 'ci24937': 417, 'ci27793': 418, 'ci24870': 419, 'ci27034': 420, 'ci24952': 421, 'ci24446': 422, 'ci27032': 423, 'ci25298': 424, 'ci25735': 425, 'ci27655': 426, 'ci24026': 427, 'ci24928': 428, 'ci23764': 429, 'ci25644': 430, 'ci24939': 431, 'ci27654': 432, 'ci23924': 433, 'ci27033': 434, 'ci24936': 435, 'ci23741': 436, 'ci24114': 437, 'ci24880': 438, 'ci24883': 439, 'ci26867': 440, 'ci27653': 441, 'ci28191': 442, 'ci28580': 443, 'ci27657': 444, 'ci24940': 445, 'ci27800': 446, 'ci24157': 447, 'ci27010': 448, 'ci24902': 449, 'ci24888': 450, 'ci25297': 451, 'ci28579': 452, 'ci24932': 453, 'ci26868': 454, 'ci26190': 455, 'ci26869': 456, 'ci27031': 457, 'ci26188': 458, 'ci26250': 459, 'ci24924': 460, 'ci23990': 461, 'ci23829': 462, 'ci27803': 463, 'ci26894': 464, 'ci25101': 465, 'ci26948': 466, 'ci27804': 467, 'ci25200': 468, 'ci26181': 469, 'ci25052': 470, 'ci24965': 471, 'ci25292': 472, 'ci24869': 473, 'ci28577': 474, 'ci24115': 475, 'ci23958': 476, 'ci24267': 477, 'ci23812': 478, 'ci24922': 479, 'ci24523': 480, 'ci27007': 481, 'ci25214': 482, 'ci27002': 483, 'ci24926': 484, 'ci24246': 485, 'ci24528': 486, 'ci26865': 487, 'ci25409': 488, 'ci24268': 489, 'ci27790': 490, 'ci27789': 491, 'ci23744': 492, 'ci23831': 493, 'ci24455': 494, 'ci24372': 495, 'ci24439': 496, 'ci26943': 497, 'ci27651': 498, 'ci28182': 499, 'ci26251': 500, 'ci25633': 501, 'ci23510': 502, 'ci26895': 503, 'ci26183': 504, 'ci27650': 505, 'ci25121': 506, 'ci25338': 507, 'ci24671': 508, 'ci26186': 509, 'ci24276': 510, 'ci27030': 511, 'ci28184': 512, 'ci24959': 513, 'ci26950': 514, 'ci26997': 515, 'ci26999': 516, 'ci24490': 517, 'ci24951': 518, 'ci27791': 519, 'ci25987': 520, 'ci28199': 521, 'ci27029': 522, 'ci26185': 523, 'ci26901': 524, 'ci24840': 525, 'ci23694': 526, 'ci28187': 527, 'ci26189': 528, 'ci24970': 529, 'ci27008': 530, 'ci24235': 531, 'ci24224': 532, 'ci27003': 533, 'ci28194': 534, 'ci23989': 535, 'ci26990': 536, 'ci25247': 537, 'ci24972': 538, 'ci28185': 539, 'ci25454': 540, 'ci25216': 541, 'ci23768': 542, 'ci23726': 543, 'ci26991': 544, 'ci26946': 545, 'ci28575': 546, 'ci26187': 547, 'ci27014': 548, 'ci23946': 549, 'ci27000': 550, 'ci26501': 551, 'ci23616': 552, 'ci26896': 553, 'ci26941': 554, 'ci27788': 555, 'ci24906': 556, 'ci27649': 557, 'ci24636': 558, 'ci26987': 559, 'ci24214': 560, 'ci27787': 561, 'ci25066': 562, 'ci25090': 563, 'ci25996': 564, 'ci27001': 565, 'ci26989': 566, 'ci27652': 567, 'ci26180': 568, 'ci24010': 569, 'ci25985': 570, 'ci25072': 571, 'ci27009': 572, 'ci25119': 573, 'ci25064': 574, 'ci25114': 575, 'ci26998': 576, 'ci27018': 577, 'ci26247': 578, 'ci23928': 579, 'ci25353': 580, 'ci24793': 581, 'ci23965': 582, 'ci24603': 583, 'ci25994': 584, 'ci24921': 585, 'ci26986': 586, 'ci26249': 587, 'ci26942': 588, 'ci24607': 589, 'ci25306': 590, 'ci24788': 591, 'ci25631': 592, 'ci24678': 593, 'ci25732': 594, 'ci23598': 595, 'ci27784': 596, 'ci26287': 597, 'ci24014': 598, 'ci23660': 599, 'ci24785': 600, 'ci26182': 601, 'ci26860': 602, 'ci24786': 603, 'ci26184': 604, 'ci23776': 605, 'ci25042': 606, 'ci28186': 607, 'ci24787': 608, 'ci24277': 609, 'ci26947': 610, 'ci28200': 611, 'ci25498': 612, 'ci23669': 613, 'ci25449': 614, 'ci25728': 615, 'ci26248': 616, 'ci25128': 617, 'ci24634': 618, 'ci23938': 619, 'ci28195': 620, 'ci27013': 621, 'ci24376': 622, 'ci25492': 623, 'ci23964': 624, 'ci28183': 625, 'ci23498': 626, 'ci25509': 627, 'ci24918': 628, 'ci23992': 629, 'ci23909': 630, 'ci28180': 631, 'ci25688': 632, 'ci24271': 633, 'ci24274': 634, 'ci24675': 635, 'ci23874': 636, 'ci25442': 637, 'ci24966': 638, 'ci26177': 639, 'ci24929': 640, 'ci25104': 641, 'ci26988': 642, 'ci28188': 643, 'ci27020': 644, 'ci27235': 645, 'ci23789': 646, 'ci25112': 647, 'ci28189': 648, 'ci25490': 649, 'ci26900': 650, 'ci24923': 651, 'ci26049': 652, 'ci23750': 653, 'ci24419': 654, 'ci26178': 655, 'ci25926': 656, 'ci23774': 657, 'ci23825': 658, 'ci25289': 659, 'ci24878': 660, 'ci24108': 661, 'ci27015': 662, 'ci25438': 663, 'ci27786': 664, 'ci24275': 665, 'ci25672': 666, 'ci23970': 667, 'ci24278': 668, 'ci25436': 669, 'ci26833': 670, 'ci26992': 671, 'ci25098': 672, 'ci25291': 673, 'ci24363': 674, 'ci24001': 675, 'ci23569': 676, 'ci27783': 677, 'ci24941': 678, 'ci25065': 679, 'ci27780': 680, 'ci27414': 681, 'ci27957': 682, 'ci24196': 683, 'ci25068': 684, 'ci25443': 685, 'ci25094': 686, 'ci26892': 687, 'ci25444': 688, 'ci27785': 689, 'ci23673': 690, 'ci28192': 691, 'ci23727': 692, 'ci26381': 693, 'ci25989': 694, 'ci25997': 695, 'ci27025': 696, 'ci27141': 697, 'ci26840': 698, 'ci27124': 699, 'ci23969': 700, 'ci24680': 701, 'ci26940': 702, 'ci24086': 703, 'ci28193': 704, 'ci27749': 705, 'ci25034': 706, 'ci25446': 707, 'ci27781': 708, 'ci23666': 709, 'ci26985': 710, 'ci24934': 711, 'ci23971': 712, 'ci28197': 713, 'ci25027': 714, 'ci23916': 715, 'ci26825': 716, 'ci26783': 717, 'ci25437': 718, 'ci26598': 719, 'ci26891': 720, 'ci27026': 721, 'ci25561': 722, 'ci23674': 723, 'ci27959': 724, 'ci25191': 725, 'ci25740': 726, 'ci23655': 727, 'ci25148': 728, 'ci23803': 729, 'ci23869': 730, 'ci25115': 731, 'ci27022': 732, 'ci26836': 733, 'ci23968': 734, 'ci27920': 735, 'ci25092': 736, 'ci27028': 737, 'ci24889': 738, 'ci24122': 739, 'ci25988': 740, 'ci25232': 741, 'ci27023': 742, 'ci27019': 743, 'ci27027': 744, 'ci24135': 745, 'ci24877': 746, 'ci26944': 747, 'ci26945': 748, 'ci24433': 749, 'ci23875': 750, 'ci25067': 751, 'ci25260': 752, 'ci25445': 753, 'ci27921': 754, 'ci23637': 755, 'ci23967': 756, 'ci24259': 757, 'ci26893': 758, 'ci23841': 759, 'ci26781': 760, 'ci23761': 761, 'ci24272': 762, 'ci26053': 763, 'ci27455': 764, 'ci23568': 765, 'ci27461': 766, 'ci23763': 767, 'ci27021': 768, 'ci24371': 769, 'ci25468': 770, 'ci26179': 771, 'ci25083': 772, 'ci23956': 773, 'ci24004': 774, 'ci26505': 775, 'ci23833': 776, 'ci23708': 777, 'ci25040': 778, 'ci27958': 779, 'ci27012': 780, 'ci24210': 781, 'ci26621': 782, 'ci26993': 783, 'ci26834': 784, 'ci26842': 785, 'ci24727': 786, 'ci23703': 787, 'ci28181': 788, 'ci26890': 789, 'ci25300': 790, 'ci25999': 791, 'ci28176': 792, 'ci25375': 793, 'ci24925': 794, 'ci23760': 795, 'ci24741': 796, 'ci24247': 797, 'ci23910': 798, 'ci23654': 799, 'ci23766': 800, 'ci25336': 801, 'ci26822': 802, 'ci26864': 803, 'ci24085': 804, 'ci26996': 805, 'ci26445': 806, 'ci26889': 807, 'ci23646': 808, 'ci28099': 809, 'ci25210': 810, 'ci23786': 811, 'ci25069': 812, 'ci26837': 813, 'ci27024': 814, 'ci24622': 815, 'ci23966': 816, 'ci23865': 817, 'ci24887': 818, 'ci24723': 819, 'ci27778': 820, 'ci25113': 821, 'ci23959': 822, 'ci23785': 823, 'ci28530': 824, 'ci24997': 825, 'ci24032': 826, 'ci26995': 827, 'ci25629': 828, 'ci26241': 829, 'ci26827': 830, 'ci24642': 831, 'ci24146': 832, 'ci23937': 833, 'ci24938': 834, 'ci26000': 835, 'ci25466': 836, 'ci24126': 837, 'ci23639': 838, 'ci25362': 839, 'ci23867': 840, 'ci26824': 841, 'ci24908': 842, 'ci24610': 843, 'ci25555': 844, 'ci24644': 845, 'ci25178': 846, 'ci24093': 847, 'ci26821': 848, 'ci23765': 849, 'ci27927': 850, 'ci26826': 851, 'ci26835': 852, 'ci27467': 853, 'ci24900': 854, 'ci23690': 855, 'ci25995': 856, 'ci26823': 857, 'ci24203': 858, 'ci25416': 859, 'ci23740': 860, 'ci25729': 861, 'ci26888': 862, 'ci26415': 863, 'ci27442': 864, 'ci25849': 865, 'ci24862': 866, 'ci24245': 867, 'ci23846': 868, 'ci28171': 869, 'ci25983': 870, 'ci28179': 871, 'ci26897': 872, 'ci23517': 873, 'ci25028': 874, 'ci25551': 875, 'ci23705': 876, 'ci27962': 877, 'ci26410': 878, 'ci25039': 879, 'ci23888': 880, 'ci26503': 881, 'ci23866': 882, 'ci25059': 883, 'ci26417': 884, 'ci24661': 885, 'ci26828': 886, 'ci27915': 887, 'ci24249': 888, 'ci28240': 889, 'ci27961': 890, 'ci26832': 891, 'ci24034': 892, 'ci24070': 893, 'ci24650': 894, 'ci25992': 895, 'ci24189': 896, 'ci24100': 897, 'ci26443': 898, 'ci24028': 899, 'ci27470': 900, 'ci28086': 901, 'ci24058': 902, 'ci24588': 903, 'ci25681': 904, 'ci24251': 905, 'ci25043': 906, 'ci27193': 907, 'ci28177': 908, 'ci28121': 909, 'ci28120': 910, 'ci23919': 911, 'ci25041': 912, 'ci24511': 913, 'ci23771': 914, 'ci24914': 915, 'ci25099': 916, 'ci26421': 917, 'ci23957': 918, 'ci24623': 919, 'ci24726': 920, 'ci26838': 921, 'ci28041': 922, 'ci24429': 923, 'ci24037': 924, 'ci24624': 925, 'ci25493': 926, 'ci23963': 927, 'ci23871': 928, 'ci23506': 929, 'ci27964': 930, 'ci28122': 931, 'ci24147': 932, 'ci26001': 933, 'ci24649': 934, 'ci28119': 935, 'ci25834': 936, 'ci26846': 937, 'ci24000': 938, 'ci23927': 939, 'ci27011': 940, 'ci28248': 941, 'ci25111': 942, 'ci25137': 943, 'ci23676': 944, 'ci28170': 945, 'ci28007': 946, 'ci24110': 947, 'ci25079': 948, 'ci24052': 949, 'ci25986': 950, 'ci24526': 951, 'ci23870': 952, 'ci24597': 953, 'ci26023': 954, 'ci23692': 955, 'ci26831': 956, 'ci26843': 957, 'ci24600': 958, 'ci23554': 959, 'ci28698': 960, 'ci26844': 961, 'ci23668': 962, 'ci23859': 963, 'ci25134': 964, 'ci27416': 965, 'ci26404': 966, 'ci25636': 967, 'ci25035': 968, 'ci25082': 969, 'ci23872': 970, 'ci28173': 971, 'ci28123': 972, 'ci24732': 973, 'ci24106': 974, 'ci28253': 975, 'ci24633': 976, 'ci25575': 977, 'ci26679': 978, 'ci25322': 979, 'ci25469': 980, 'ci28196': 981, 'ci26830': 982, 'ci23936': 983, 'ci25234': 984, 'ci23615': 985, 'ci23813': 986, 'ci24907': 987, 'ci24598': 988, 'ci25731': 989, 'ci24919': 990, 'ci28175': 991, 'ci25414': 992, 'ci27566': 993, 'ci26432': 994, 'ci24592': 995, 'ci24125': 996, 'ci26994': 997, 'ci27900': 998, 'ci23677': 999, 'ci28112': 1000, 'ci26412': 1001, 'ci25284': 1002, 'ci25993': 1003, 'ci27457': 1004, 'ci27438': 1005, 'ci27621': 1006, 'ci26418': 1007, 'ci25984': 1008, 'ci27716': 1009, 'ci28124': 1010, 'ci26839': 1011, 'ci24933': 1012, 'ci25778': 1013, 'ci26782': 1014, 'ci25333': 1015, 'ci26880': 1016, 'ci25301': 1017, 'ci24879': 1018, 'ci24973': 1019, 'ci28172': 1020, 'ci23657': 1021, 'ci23665': 1022, 'ci24974': 1023, 'ci26847': 1024, 'ci26416': 1025, 'ci24220': 1026, 'ci26887': 1027, 'ci24719': 1028, 'ci23627': 1029, 'ci27740': 1030, 'ci24101': 1031, 'ci23811': 1032, 'ci27969': 1033, 'ci24594': 1034, 'ci24400': 1035, 'ci23696': 1036, 'ci25304': 1037, 'ci25433': 1038, 'ci27464': 1039, 'ci23795': 1040, 'ci25494': 1041, 'ci23526': 1042, 'ci26863': 1043, 'ci24264': 1044, 'ci25432': 1045, 'ci25051': 1046, 'ci25250': 1047, 'ci24254': 1048, 'ci25118': 1049, 'ci25625': 1050, 'ci23503': 1051, 'ci28198': 1052, 'ci24859': 1053, 'ci23721': 1054, 'ci26067': 1055, 'ci24170': 1056, 'ci24996': 1057, 'ci28256': 1058, 'ci26057': 1059, 'ci26556': 1060, 'ci26436': 1061, 'ci25991': 1062, 'ci25796': 1063, 'ci23882': 1064, 'ci28117': 1065, 'ci28290': 1066, 'ci26392': 1067, 'ci24729': 1068, 'ci24045': 1069, 'ci28108': 1070, 'ci28168': 1071, 'ci25217': 1072, 'ci25990': 1073, 'ci27451': 1074, 'ci23555': 1075, 'ci27980': 1076, 'ci24638': 1077, 'ci24884': 1078, 'ci25755': 1079, 'ci27975': 1080, 'ci24144': 1081, 'ci23650': 1082, 'ci26886': 1083, 'ci25571': 1084, 'ci25026': 1085, 'ci25667': 1086, 'ci23723': 1087, 'ci25666': 1088, 'ci25365': 1089, 'ci28113': 1090, 'ci24303': 1091, 'ci26414': 1092, 'ci26041': 1093, 'ci26829': 1094, 'ci25071': 1095, 'ci26413': 1096, 'ci27473': 1097, 'ci24760': 1098, 'ci23651': 1099, 'ci28107': 1100, 'ci25730': 1101, 'ci24151': 1102, 'ci24641': 1103, 'ci27976': 1104, 'ci27974': 1105, 'ci28479': 1106, 'ci26389': 1107, 'ci24209': 1108, 'ci27967': 1109, 'ci27233': 1110, 'ci25254': 1111, 'ci25257': 1112, 'ci26755': 1113, 'ci27966': 1114, 'ci23886': 1115, 'ci26408': 1116, 'ci23762': 1117, 'ci27926': 1118, 'ci24229': 1119, 'ci24035': 1120, 'ci26449': 1121, 'ci28244': 1122, 'ci27435': 1123, 'ci25097': 1124, 'ci23873': 1125, 'ci25238': 1126, 'ci28982': 1127, 'ci23903': 1128, 'ci24205': 1129, 'ci25033': 1130, 'ci28257': 1131, 'ci28116': 1132, 'ci27136': 1133, 'ci27276': 1134, 'ci25228': 1135, 'ci23827': 1136, 'ci25572': 1137, 'ci26129': 1138, 'ci26681': 1139, 'ci28106': 1140, 'ci28178': 1141, 'ci24874': 1142, 'ci24659': 1143, 'ci24057': 1144, 'ci24583': 1145, 'ci25089': 1146, 'ci24500': 1147, 'ci26680': 1148, 'ci28115': 1149, 'ci24808': 1150, 'ci26411': 1151, 'ci28127': 1152, 'ci24656': 1153, 'ci23675': 1154, 'ci23541': 1155, 'ci24724': 1156, 'ci27970': 1157, 'ci23642': 1158, 'ci25133': 1159, 'ci24207': 1160, 'ci24471': 1161, 'ci27971': 1162, 'ci23754': 1163, 'ci26420': 1164, 'ci27686': 1165, 'ci26234': 1166, 'ci24898': 1167, 'ci27569': 1168, 'ci23734': 1169, 'ci26141': 1170, 'ci27206': 1171, 'ci28118': 1172, 'ci26422': 1173, 'ci23889': 1174, 'ci27209': 1175, 'ci24255': 1176, 'ci25925': 1177, 'ci28792': 1178, 'ci23920': 1179, 'ci28045': 1180, 'ci27420': 1181, 'ci25674': 1182, 'ci24893': 1183, 'ci24573': 1184, 'ci24648': 1185, 'ci23539': 1186, 'ci24005': 1187, 'ci25791': 1188, 'ci25814': 1189, 'ci24193': 1190, 'ci25662': 1191, 'ci23804': 1192, 'ci27685': 1193, 'ci25630': 1194, 'ci25738': 1195, 'ci25222': 1196, 'ci25329': 1197, 'ci27751': 1198, 'ci25279': 1199, 'ci25598': 1200, 'ci27173': 1201, 'ci25496': 1202, 'ci24095': 1203, 'ci27933': 1204, 'ci23954': 1205, 'ci25998': 1206, 'ci25661': 1207, 'ci25500': 1208, 'ci25070': 1209, 'ci25276': 1210, 'ci24886': 1211, 'ci24730': 1212, 'ci23724': 1213, 'ci26885': 1214, 'ci24266': 1215, 'ci25762': 1216, 'ci28128': 1217, 'ci24960': 1218, 'ci24645': 1219, 'ci24322': 1220, 'ci25078': 1221, 'ci24036': 1222, 'ci24330': 1223, 'ci23955': 1224, 'ci27596': 1225, 'ci27918': 1226, 'ci25663': 1227, 'ci27928': 1228, 'ci24637': 1229, 'ci25829': 1230, 'ci24905': 1231, 'ci25031': 1232, 'ci25930': 1233, 'ci27934': 1234, 'ci24112': 1235, 'ci24412': 1236, 'ci24177': 1237, 'ci27629': 1238, 'ci26882': 1239, 'ci24148': 1240, 'ci23826': 1241, 'ci25724': 1242, 'ci25777': 1243, 'ci25744': 1244, 'ci28042': 1245, 'ci24512': 1246, 'ci26427': 1247, 'ci25455': 1248, 'ci25528': 1249, 'ci25248': 1250, 'ci24595': 1251, 'ci27730': 1252, 'ci23504': 1253, 'ci26401': 1254, 'ci26883': 1255, 'ci24281': 1256, 'ci26419': 1257, 'ci23814': 1258, 'ci26382': 1259, 'ci27539': 1260, 'ci24020': 1261, 'ci23743': 1262, 'ci26428': 1263, 'ci24503': 1264, 'ci25339': 1265, 'ci26388': 1266, 'ci24720': 1267, 'ci26815': 1268, 'ci28252': 1269, 'ci27614': 1270, 'ci25253': 1271, 'ci25081': 1272, 'ci28286': 1273, 'ci24894': 1274, 'ci27965': 1275, 'ci27968': 1276, 'ci27932': 1277, 'ci25937': 1278, 'ci23823': 1279, 'ci23641': 1280, 'ci24134': 1281, 'ci25258': 1282, 'ci24963': 1283, 'ci25080': 1284, 'ci27717': 1285, 'ci27977': 1286, 'ci25130': 1287, 'ci25366': 1288, 'ci25286': 1289, 'ci24961': 1290, 'ci28302': 1291, 'ci27484': 1292, 'ci24651': 1293, 'ci26409': 1294, 'ci26640': 1295, 'ci25091': 1296, 'ci27278': 1297, 'ci25280': 1298, 'ci25144': 1299, 'ci25032': 1300, 'ci24409': 1301, 'ci23998': 1302, 'ci25230': 1303, 'ci24039': 1304, 'ci28126': 1305, 'ci23636': 1306, 'ci24721': 1307, 'ci24027': 1308, 'ci25676': 1309, 'ci25194': 1310, 'ci24657': 1311, 'ci26884': 1312, 'ci24390': 1313, 'ci25076': 1314, 'ci28174': 1315, 'ci23876': 1316, 'ci26701': 1317, 'ci25283': 1318, 'ci25049': 1319, 'ci24467': 1320, 'ci24097': 1321, 'ci23619': 1322, 'ci24103': 1323, 'ci27065': 1324, 'ci24213': 1325, 'ci25599': 1326, 'ci24068': 1327, 'ci23853': 1328, 'ci27908': 1329, 'ci25095': 1330, 'ci25122': 1331, 'ci27744': 1332, 'ci25820': 1333, 'ci24901': 1334, 'ci27275': 1335, 'ci27618': 1336, 'ci26407': 1337, 'ci24080': 1338, 'ci24056': 1339, 'ci23979': 1340, 'ci25219': 1341, 'ci26282': 1342, 'ci24118': 1343, 'ci24179': 1344, 'ci24984': 1345, 'ci27981': 1346, 'ci25063': 1347, 'ci24716': 1348, 'ci25233': 1349, 'ci25624': 1350, 'ci25632': 1351, 'ci28984': 1352, 'ci28048': 1353, 'ci24053': 1354, 'ci24834': 1355, 'ci23893': 1356, 'ci27991': 1357, 'ci25659': 1358, 'ci26845': 1359, 'ci28002': 1360, 'ci25742': 1361, 'ci25100': 1362, 'ci27419': 1363, 'ci27931': 1364, 'ci25146': 1365, 'ci26077': 1366, 'ci27263': 1367, 'ci24728': 1368, 'ci27972': 1369, 'ci26076': 1370, 'ci24658': 1371, 'ci24055': 1372, 'ci25737': 1373, 'ci23896': 1374, 'ci24646': 1375, 'ci24748': 1376, 'ci27227': 1377, 'ci24718': 1378, 'ci26879': 1379, 'ci24389': 1380, 'ci25367': 1381, 'ci24890': 1382, 'ci28169': 1383, 'ci27960': 1384, 'ci27987': 1385, 'ci27719': 1386, 'ci26424': 1387, 'ci24882': 1388, 'ci23689': 1389, 'ci25806': 1390, 'ci25974': 1391, 'ci25982': 1392, 'ci25510': 1393, 'ci23659': 1394, 'ci24946': 1395, 'ci27922': 1396, 'ci25776': 1397, 'ci23626': 1398, 'ci26030': 1399, 'ci28125': 1400, 'ci26321': 1401, 'ci25077': 1402, 'ci25406': 1403, 'ci25938': 1404, 'ci25869': 1405, 'ci25781': 1406, 'ci24756': 1407, 'ci25274': 1408, 'ci23843': 1409, 'ci26803': 1410, 'ci26623': 1411, 'ci26502': 1412, 'ci24091': 1413, 'ci27554': 1414, 'ci23993': 1415, 'ci25826': 1416, 'ci25596': 1417, 'ci27468': 1418, 'ci26426': 1419, 'ci26620': 1420, 'ci26722': 1421, 'ci24408': 1422, 'ci27691': 1423, 'ci25305': 1424, 'ci24722': 1425, 'ci25266': 1426, 'ci25497': 1427, 'ci28790': 1428, 'ci23822': 1429, 'ci26506': 1430, 'ci26405': 1431, 'ci23628': 1432, 'ci24344': 1433, 'ci25412': 1434, 'ci25398': 1435, 'ci23730': 1436, 'ci25775': 1437, 'ci24460': 1438, 'ci26423': 1439, 'ci27462': 1440, 'ci25373': 1441, 'ci25734': 1442, 'ci23617': 1443, 'ci25023': 1444, 'ci25597': 1445, 'ci27204': 1446, 'ci25602': 1447, 'ci26751': 1448, 'ci25311': 1449, 'ci27058': 1450, 'ci24986': 1451, 'ci24156': 1452, 'ci25410': 1453, 'ci25277': 1454, 'ci24291': 1455, 'ci26489': 1456, 'ci27535': 1457, 'ci25685': 1458, 'ci23745': 1459, 'ci27963': 1460, 'ci23716': 1461, 'ci27924': 1462, 'ci24353': 1463, 'ci28365': 1464, 'ci26403': 1465, 'ci24158': 1466, 'ci26606': 1467, 'ci24340': 1468, 'ci24237': 1469, 'ci28044': 1470, 'ci23784': 1471, 'ci25282': 1472, 'ci26737': 1473, 'ci28358': 1474, 'ci25463': 1475, 'ci25441': 1476, 'ci25499': 1477, 'ci26508': 1478, 'ci27175': 1479, 'ci24406': 1480, 'ci24999': 1481, 'ci23531': 1482, 'ci23600': 1483, 'ci28295': 1484, 'ci26881': 1485, 'ci23564': 1486, 'ci27923': 1487, 'ci24393': 1488, 'ci26841': 1489, 'ci23847': 1490, 'ci26745': 1491, 'ci24102': 1492, 'ci24250': 1493, 'ci27930': 1494, 'ci24725': 1495, 'ci24152': 1496, 'ci26429': 1497, 'ci28403': 1498, 'ci24212': 1499, 'ci27721': 1500, 'ci25227': 1501, 'ci24382': 1502, 'ci23801': 1503, 'ci27919': 1504, 'ci24507': 1505, 'ci23983': 1506, 'ci25821': 1507, 'ci24007': 1508, 'ci26678': 1509, 'ci24881': 1510, 'ci26817': 1511, 'ci27615': 1512, 'ci23767': 1513, 'ci27418': 1514, 'ci24465': 1515, 'ci28747': 1516, 'ci26286': 1517, 'ci24067': 1518, 'ci25356': 1519, 'ci25439': 1520, 'ci24489': 1521, 'ci25584': 1522, 'ci24609': 1523, 'ci23683': 1524, 'ci25116': 1525, 'ci24662': 1526, 'ci25924': 1527, 'ci25495': 1528, 'ci27270': 1529, 'ci23788': 1530, 'ci24985': 1531, 'ci28441': 1532, 'ci25726': 1533, 'ci24844': 1534, 'ci24180': 1535, 'ci27985': 1536, 'ci25363': 1537, 'ci24368': 1538, 'ci26465': 1539, 'ci26464': 1540, 'ci26658': 1541, 'ci24590': 1542, 'ci25677': 1543, 'ci23940': 1544, 'ci26696': 1545, 'ci27188': 1546, 'ci27724': 1547, 'ci26607': 1548, 'ci26145': 1549, 'ci26773': 1550, 'ci26675': 1551, 'ci24309': 1552, 'ci24012': 1553, 'ci25863': 1554, 'ci25600': 1555, 'ci25330': 1556, 'ci25529': 1557, 'ci26337': 1558, 'ci28285': 1559, 'ci25939': 1560, 'ci25773': 1561, 'ci24852': 1562, 'ci24054': 1563, 'ci24096': 1564, 'ci28457': 1565, 'ci26659': 1566, 'ci23647': 1567, 'ci28046': 1568, 'ci25411': 1569, 'ci25381': 1570, 'ci26457': 1571, 'ci23519': 1572, 'ci23973': 1573, 'ci27992': 1574, 'ci25754': 1575, 'ci23545': 1576, 'ci25736': 1577, 'ci23926': 1578, 'ci26760': 1579, 'ci26765': 1580, 'ci24780': 1581, 'ci27544': 1582, 'ci28282': 1583, 'ci24625': 1584, 'ci24023': 1585, 'ci24218': 1586, 'ci28631': 1587, 'ci23792': 1588, 'ci28480': 1589, 'ci25514': 1590, 'ci25603': 1591, 'ci25396': 1592, 'ci27221': 1593, 'ci24415': 1594, 'ci27541': 1595, 'ci24380': 1596, 'ci23618': 1597, 'ci23633': 1598, 'ci27978': 1599, 'ci24487': 1600, 'ci27149': 1601, 'ci25739': 1602, 'ci24200': 1603, 'ci23817': 1604, 'ci24712': 1605, 'ci27446': 1606, 'ci26656': 1607, 'ci25425': 1608, 'ci25296': 1609, 'ci25805': 1610, 'ci25725': 1611, 'ci23974': 1612, 'ci23808': 1613, 'ci23942': 1614, 'ci26047': 1615, 'ci25193': 1616, 'ci27444': 1617, 'ci25880': 1618, 'ci28481': 1619, 'ci26657': 1620, 'ci24040': 1621, 'ci23514': 1622, 'ci27747': 1623, 'ci29006': 1624, 'ci24396': 1625, 'ci24599': 1626, 'ci25319': 1627, 'ci25087': 1628, 'ci23943': 1629, 'ci24897': 1630, 'ci25287': 1631, 'ci27447': 1632, 'ci24442': 1633, 'ci27816': 1634, 'ci27161': 1635, 'ci25979': 1636, 'ci24013': 1637, 'ci25836': 1638, 'ci24171': 1639, 'ci27553': 1640, 'ci27909': 1641, 'ci26469': 1642, 'ci24989': 1643, 'ci25673': 1644, 'ci23635': 1645, 'ci24832': 1646, 'ci24441': 1647, 'ci26655': 1648, 'ci26878': 1649, 'ci26504': 1650, 'ci24971': 1651, 'ci23624': 1652, 'ci27563': 1653, 'ci26391': 1654, 'ci24784': 1655, 'ci23557': 1656, 'ci23901': 1657, 'ci27437': 1658, 'ci24700': 1659, 'ci28006': 1660, 'ci25857': 1661, 'ci26455': 1662, 'ci24025': 1663, 'ci24904': 1664, 'ci27427': 1665, 'ci26819': 1666, 'ci23513': 1667, 'ci24413': 1668, 'ci24174': 1669, 'ci23879': 1670, 'ci25294': 1671, 'ci26854': 1672, 'ci26768': 1673, 'ci26451': 1674, 'ci27217': 1675, 'ci27215': 1676, 'ci26727': 1677, 'ci23483': 1678, 'ci25399': 1679, 'ci27734': 1680, 'ci26690': 1681, 'ci27463': 1682, 'ci24192': 1683, 'ci26406': 1684, 'ci25799': 1685, 'ci27543': 1686, 'ci25450': 1687, 'ci26291': 1688, 'ci27562': 1689, 'ci24233': 1690, 'ci28697': 1691, 'ci27592': 1692, 'ci26667': 1693, 'ci24846': 1694, 'ci23877': 1695, 'ci24896': 1696, 'ci26466': 1697, 'ci24851': 1698, 'ci23574': 1699, 'ci25220': 1700, 'ci27501': 1701, 'ci24639': 1702, 'ci25000': 1703, 'ci27565': 1704, 'ci27466': 1705, 'ci25324': 1706, 'ci23911': 1707, 'ci27422': 1708, 'ci25669': 1709, 'ci24142': 1710, 'ci27722': 1711, 'ci27733': 1712, 'ci25643': 1713, 'ci23704': 1714, 'ci23695': 1715, 'ci27736': 1716, 'ci26672': 1717, 'ci29018': 1718, 'ci27365': 1719, 'ci28921': 1720, 'ci25008': 1721, 'ci26851': 1722, 'ci24248': 1723, 'ci26704': 1724, 'ci25546': 1725, 'ci25594': 1726, 'ci25269': 1727, 'ci27056': 1728, 'ci28130': 1729, 'ci24611': 1730, 'ci24338': 1731, 'ci25278': 1732, 'ci25188': 1733, 'ci24253': 1734, 'ci24476': 1735, 'ci25332': 1736, 'ci28495': 1737, 'ci27989': 1738, 'ci25559': 1739, 'ci24351': 1740, 'ci23549': 1741, 'ci27441': 1742, 'ci23631': 1743, 'ci25660': 1744, 'ci25403': 1745, 'ci27142': 1746, 'ci26335': 1747, 'ci24236': 1748, 'ci25131': 1749, 'ci24771': 1750, 'ci24807': 1751, 'ci26651': 1752, 'ci24297': 1753, 'ci24470': 1754, 'ci27745': 1755, 'ci26700': 1756, 'ci23783': 1757, 'ci25574': 1758, 'ci24243': 1759, 'ci28729': 1760, 'ci27741': 1761, 'ci23522': 1762, 'ci24753': 1763, 'ci26602': 1764, 'ci25241': 1765, 'ci24240': 1766, 'ci26288': 1767, 'ci26022': 1768, 'ci25611': 1769, 'ci27993': 1770, 'ci28214': 1771, 'ci26654': 1772, 'ci25696': 1773, 'ci24606': 1774, 'ci24407': 1775, 'ci25932': 1776, 'ci27584': 1777, 'ci25380': 1778, 'ci25174': 1779, 'ci25239': 1780, 'ci27608': 1781, 'ci23709': 1782, 'ci25949': 1783, 'ci26780': 1784, 'ci26142': 1785, 'ci27465': 1786, 'ci28489': 1787, 'ci27643': 1788, 'ci27631': 1789, 'ci24458': 1790, 'ci27916': 1791, 'ci23625': 1792, 'ci27580': 1793, 'ci24717': 1794, 'ci23565': 1795, 'ci27917': 1796, 'ci23649': 1797, 'ci27690': 1798, 'ci23516': 1799, 'ci27990': 1800, 'ci26338': 1801, 'ci25413': 1802, 'ci28914': 1803, 'ci25129': 1804, 'ci26967': 1805, 'ci24422': 1806, 'ci28969': 1807, 'ci26470': 1808, 'ci26853': 1809, 'ci26850': 1810, 'ci28258': 1811, 'ci28974': 1812, 'ci27312': 1813, 'ci25706': 1814, 'ci26849': 1815, 'ci28953': 1816, 'ci24468': 1817, 'ci23687': 1818, 'ci23594': 1819, 'ci26448': 1820, 'ci23854': 1821, 'ci23787': 1822, 'ci28050': 1823, 'ci24591': 1824, 'ci25045': 1825, 'ci25709': 1826, 'ci23914': 1827, 'ci25723': 1828, 'ci27883': 1829, 'ci28913': 1830, 'ci24263': 1831, 'ci23878': 1832, 'ci23644': 1833, 'ci24009': 1834, 'ci24483': 1835, 'ci24425': 1836, 'ci28880': 1837, 'ci27222': 1838, 'ci28802': 1839, 'ci27904': 1840, 'ci27754': 1841, 'ci23614': 1842, 'ci26799': 1843, 'ci24737': 1844, 'ci24401': 1845, 'ci24256': 1846, 'ci23997': 1847, 'ci25120': 1848, 'ci24580': 1849, 'ci24244': 1850, 'ci25823': 1851, 'ci28983': 1852, 'ci28794': 1853, 'ci26027': 1854, 'ci24424': 1855, 'ci25335': 1856, 'ci28092': 1857, 'ci24674': 1858, 'ci27560': 1859, 'ci26804': 1860, 'ci27637': 1861, 'ci25505': 1862, 'ci28001': 1863, 'ci28676': 1864, 'ci25822': 1865, 'ci27601': 1866, 'ci25355': 1867, 'ci26397': 1868, 'ci24983': 1869, 'ci27727': 1870, 'ci26302': 1871, 'ci24346': 1872, 'ci25684': 1873, 'ci28414': 1874, 'ci25285': 1875, 'ci23864': 1876, 'ci24450': 1877, 'ci25889': 1878, 'ci27537': 1879, 'ci28915': 1880, 'ci27533': 1881, 'ci26300': 1882, 'ci25833': 1883, 'ci25957': 1884, 'ci28798': 1885, 'ci24804': 1886, 'ci24241': 1887, 'ci26139': 1888, 'ci28427': 1889, 'ci24394': 1890, 'ci26035': 1891, 'ci25383': 1892, 'ci26721': 1893, 'ci26969': 1894, 'ci25037': 1895, 'ci24065': 1896, 'ci27234': 1897, 'ci26444': 1898, 'ci25256': 1899, 'ci26467': 1900, 'ci27982': 1901, 'ci24806': 1902, 'ci24812': 1903, 'ci25622': 1904, 'ci25935': 1905, 'ci23535': 1906, 'ci27979': 1907, 'ci24504': 1908, 'ci27573': 1909, 'ci27611': 1910, 'ci25771': 1911, 'ci24767': 1912, 'ci24416': 1913, 'ci23511': 1914, 'ci25451': 1915, 'ci26629': 1916, 'ci23712': 1917, 'ci25221': 1918, 'ci27743': 1919, 'ci23944': 1920, 'ci27901': 1921, 'ci24456': 1922, 'ci25167': 1923, 'ci25705': 1924, 'ci23884': 1925, 'ci26440': 1926, 'ci27586': 1927, 'ci26593': 1928, 'ci27399': 1929, 'ci25623': 1930, 'ci24473': 1931, 'ci27550': 1932, 'ci24855': 1933, 'ci23534': 1934, 'ci24715': 1935, 'ci25562': 1936, 'ci25716': 1937, 'ci26676': 1938, 'ci24475': 1939, 'ci25817': 1940, 'ci26435': 1941, 'ci24920': 1942, 'ci25646': 1943, 'ci24620': 1944, 'ci26485': 1945, 'ci26390': 1946, 'ci27198': 1947, 'ci24388': 1948, 'ci27242': 1949, 'ci26233': 1950, 'ci24765': 1951, 'ci26750': 1952, 'ci24805': 1953, 'ci26639': 1954, 'ci26660': 1955, 'ci26304': 1956, 'ci25334': 1957, 'ci27271': 1958, 'ci25479': 1959, 'ci27410': 1960, 'ci24384': 1961, 'ci26674': 1962, 'ci27558': 1963, 'ci23907': 1964, 'ci27906': 1965, 'ci25963': 1966, 'ci26289': 1967, 'ci24510': 1968, 'ci28519': 1969, 'ci27732': 1970, 'ci25281': 1971, 'ci24845': 1972, 'ci26071': 1973, 'ci25084': 1974, 'ci24795': 1975, 'ci27567': 1976, 'ci28043': 1977, 'ci24443': 1978, 'ci26306': 1979, 'ci25612': 1980, 'ci23521': 1981, 'ci27231': 1982, 'ci23479': 1983, 'ci24612': 1984, 'ci27261': 1985, 'ci24711': 1986, 'ci24601': 1987, 'ci27633': 1988, 'ci26787': 1989, 'ci28920': 1990, 'ci25321': 1991, 'ci28791': 1992, 'ci27469': 1993, 'ci27882': 1994, 'ci24740': 1995, 'ci25368': 1996, 'ci28247': 1997, 'ci27576': 1998, 'ci25879': 1999, 'ci24975': 2000, 'ci26542': 2001, 'ci24746': 2002, 'ci26611': 2003, 'ci25458': 2004, 'ci25359': 2005, 'ci23632': 2006, 'ci23736': 2007, 'ci26964': 2008, 'ci27448': 2009, 'ci27088': 2010, 'ci27146': 2011, 'ci26965': 2012, 'ci27443': 2013, 'ci27752': 2014, 'ci24048': 2015, 'ci24160': 2016, 'ci25637': 2017, 'ci26368': 2018, 'ci26277': 2019, 'ci25792': 2020, 'ci24841': 2021, 'ci27255': 2022, 'ci27538': 2023, 'ci27531': 2024, 'ci28909': 2025, 'ci27534': 2026, 'ci24216': 2027, 'ci26973': 2028, 'ci26968': 2029, 'ci24140': 2030, 'ci24705': 2031, 'ci28840': 2032, 'ci25275': 2033, 'ci28789': 2034, 'ci26650': 2035, 'ci26254': 2036, 'ci26507': 2037, 'ci24569': 2038, 'ci27646': 2039, 'ci25592': 2040, 'ci26642': 2041, 'ci27190': 2042, 'ci25715': 2043, 'ci27425': 2044, 'ci27683': 2045, 'ci24755': 2046, 'ci25804': 2047, 'ci23493': 2048, 'ci23575': 2049, 'ci26135': 2050, 'ci25980': 2051, 'ci27262': 2052, 'ci25652': 2053, 'ci24677': 2054, 'ci24654': 2055, 'ci24431': 2056, 'ci26299': 2057, 'ci24391': 2058, 'ci28374': 2059, 'ci27630': 2060, 'ci23737': 2061, 'ci27529': 2062, 'ci24833': 2063, 'ci28925': 2064, 'ci24169': 2065, 'ci25036': 2066, 'ci25553': 2067, 'ci24204': 2068, 'ci25419': 2069, 'ci28989': 2070, 'ci23952': 2071, 'ci25809': 2072, 'ci25237': 2073, 'ci24828': 2074, 'ci24619': 2075, 'ci24731': 2076, 'ci25758': 2077, 'ci24605': 2078, 'ci26402': 2079, 'ci24857': 2080, 'ci28605': 2081, 'ci26583': 2082, 'ci25151': 2083, 'ci25006': 2084, 'ci28916': 2085, 'ci23915': 2086, 'ci28239': 2087, 'ci28665': 2088, 'ci25901': 2089, 'ci27200': 2090, 'ci23540': 2091, 'ci26511': 2092, 'ci28319': 2093, 'ci25312': 2094, 'ci24173': 2095, 'ci27150': 2096, 'ci26705': 2097, 'ci24768': 2098, 'ci24417': 2099, 'ci24484': 2100, 'ci23960': 2101, 'ci23700': 2102, 'ci24119': 2103, 'ci24615': 2104, 'ci25587': 2105, 'ci24616': 2106, 'ci24341': 2107, 'ci25096': 2108, 'ci26236': 2109, 'ci26425': 2110, 'ci28922': 2111, 'ci26386': 2112, 'ci24089': 2113, 'ci25657': 2114, 'ci24596': 2115, 'ci23987': 2116, 'ci27411': 2117, 'ci28047': 2118, 'ci25195': 2119, 'ci25457': 2120, 'ci24238': 2121, 'ci28553': 2122, 'ci26459': 2123, 'ci26684': 2124, 'ci25593': 2125, 'ci24296': 2126, 'ci23806': 2127, 'ci23861': 2128, 'ci27623': 2129, 'ci28389': 2130, 'ci24978': 2131, 'ci23731': 2132, 'ci25699': 2133, 'ci27078': 2134, 'ci24499': 2135, 'ci27208': 2136, 'ci24502': 2137, 'ci27098': 2138, 'ci27591': 2139, 'ci26634': 2140, 'ci27080': 2141, 'ci26966': 2142, 'ci25766': 2143, 'ci23977': 2144, 'ci27201': 2145, 'ci24482': 2146, 'ci27417': 2147, 'ci26716': 2148, 'ci25102': 2149, 'ci27619': 2150, 'ci26978': 2151, 'ci27912': 2152, 'ci26980': 2153, 'ci26972': 2154, 'ci28630': 2155, 'ci26130': 2156, 'ci23778': 2157, 'ci26558': 2158, 'ci28923': 2159, 'ci25417': 2160, 'ci28485': 2161, 'ci24350': 2162, 'ci24167': 2163, 'ci28051': 2164, 'ci23908': 2165, 'ci26028': 2166, 'ci24397': 2167, 'ci27556': 2168, 'ci27913': 2169, 'ci26557': 2170, 'ci24562': 2171, 'ci28164': 2172, 'ci28369': 2173, 'ci23484': 2174, 'ci26463': 2175, 'ci28150': 2176, 'ci25352': 2177, 'ci27755': 2178, 'ci23661': 2179, 'ci24734': 2180, 'ci26343': 2181, 'ci25408': 2182, 'ci27361': 2183, 'ci25030': 2184, 'ci26263': 2185, 'ci23837': 2186, 'ci24234': 2187, 'ci27725': 2188, 'ci26619': 2189, 'ci26981': 2190, 'ci26970': 2191, 'ci28417': 2192, 'ci26036': 2193, 'ci26615': 2194, 'ci28912': 2195, 'ci28985': 2196, 'ci26652': 2197, 'ci26686': 2198, 'ci27742': 2199, 'ci24911': 2200, 'ci28505': 2201, 'ci24899': 2202, 'ci27224': 2203, 'ci27557': 2204, 'ci28503': 2205, 'ci25558': 2206, 'ci28350': 2207, 'ci27910': 2208, 'ci27545': 2209, 'ci27127': 2210, 'ci28796': 2211, 'ci24364': 2212, 'ci27564': 2213, 'ci25711': 2214, 'ci27066': 2215, 'ci28924': 2216, 'ci27440': 2217, 'ci25015': 2218, 'ci23586': 2219, 'ci25741': 2220, 'ci27547': 2221, 'ci25184': 2222, 'ci26493': 2223, 'ci23735': 2224, 'ci25903': 2225, 'ci27600': 2226, 'ci28027': 2227, 'ci28907': 2228, 'ci28911': 2229, 'ci23537': 2230, 'ci24655': 2231, 'ci25350': 2232, 'ci25628': 2233, 'ci25223': 2234, 'ci23623': 2235, 'ci26635': 2236, 'ci23885': 2237, 'ci25048': 2238, 'ci25331': 2239, 'ci26653': 2240, 'ci27549': 2241, 'ci23923': 2242, 'ci23796': 2243, 'ci24824': 2244, 'ci23693': 2245, 'ci27184': 2246, 'ci24066': 2247, 'ci24474': 2248, 'ci25784': 2249, 'ci25085': 2250, 'ci27905': 2251, 'ci25315': 2252, 'ci27228': 2253, 'ci26290': 2254, 'ci24703': 2255, 'ci26137': 2256, 'ci24509': 2257, 'ci26625': 2258, 'ci25346': 2259, 'ci27053': 2260, 'ci27491': 2261, 'ci28337': 2262, 'ci25713': 2263, 'ci26138': 2264, 'ci28065': 2265, 'ci23518': 2266, 'ci25235': 2267, 'ci23891': 2268, 'ci27509': 2269, 'ci27313': 2270, 'ci24481': 2271, 'ci23515': 2272, 'ci24571': 2273, 'ci28165': 2274, 'ci27176': 2275, 'ci25952': 2276, 'ci24131': 2277, 'ci26816': 2278, 'ci28842': 2279, 'ci27415': 2280, 'ci27879': 2281, 'ci24836': 2282, 'ci26801': 2283, 'ci24842': 2284, 'ci26649': 2285, 'ci23562': 2286, 'ci26474': 2287, 'ci25542': 2288, 'ci23947': 2289, 'ci24427': 2290, 'ci24469': 2291, 'ci24464': 2292, 'ci28834': 2293, 'ci24553': 2294, 'ci25521': 2295, 'ci24194': 2296, 'ci27488': 2297, 'ci28052': 2298, 'ci25038': 2299, 'ci27054': 2300, 'ci24822': 2301, 'ci24143': 2302, 'ci28940': 2303, 'ci27632': 2304, 'ci27366': 2305, 'ci28841': 2306, 'ci24981': 2307, 'ci25601': 2308, 'ci25199': 2309, 'ci23935': 2310, 'ci25748': 2311, 'ci25682': 2312, 'ci28089': 2313, 'ci28910': 2314, 'ci24849': 2315, 'ci27911': 2316, 'ci25515': 2317, 'ci23698': 2318, 'ci25391': 2319, 'ci23773': 2320, 'ci26013': 2321, 'ci25570': 2322, 'ci28673': 2323, 'ci24687': 2324, 'ci24617': 2325, 'ci27131': 2326, 'ci26229': 2327, 'ci27612': 2328, 'ci23931': 2329, 'ci27445': 2330, 'ci24430': 2331, 'ci28719': 2332, 'ci27850': 2333, 'ci25947': 2334, 'ci24821': 2335, 'ci25316': 2336, 'ci27759': 2337, 'ci28876': 2338, 'ci24017': 2339, 'ci25147': 2340, 'ci27377': 2341, 'ci28012': 2342, 'ci28297': 2343, 'ci24063': 2344, 'ci28539': 2345, 'ci27301': 2346, 'ci27421': 2347, 'ci24329': 2348, 'ci27109': 2349, 'ci28313': 2350, 'ci26136': 2351, 'ci24190': 2352, 'ci28694': 2353, 'ci24356': 2354, 'ci28651': 2355, 'ci24660': 2356, 'ci28836': 2357, 'ci25186': 2358, 'ci27172': 2359, 'ci26038': 2360, 'ci24838': 2361, 'ci28908': 2362, 'ci28902': 2363, 'ci23980': 2364, 'ci27077': 2365, 'ci27258': 2366, 'ci25272': 2367, 'ci25157': 2368, 'ci25004': 2369, 'ci26971': 2370, 'ci26974': 2371, 'ci26029': 2372, 'ci24831': 2373, 'ci26087': 2374, 'ci26484': 2375, 'ci24667': 2376, 'ci24666': 2377, 'ci28904': 2378, 'ci28919': 2379, 'ci28918': 2380, 'ci24355': 2381, 'ci26526': 2382, 'ci26805': 2383, 'ci24538': 2384, 'ci28832': 2385, 'ci25747': 2386, 'ci27211': 2387, 'ci24608': 2388, 'ci26266': 2389, 'ci24404': 2390, 'ci28062': 2391, 'ci26785': 2392, 'ci25263': 2393, 'ci25743': 2394, 'ci24155': 2395, 'ci27907': 2396, 'ci27902': 2397, 'ci27750': 2398, 'ci27387': 2399, 'ci28610': 2400, 'ci27458': 2401, 'ci24589': 2402, 'ci25680': 2403, 'ci25818': 2404, 'ci26792': 2405, 'ci27575': 2406, 'ci25145': 2407, 'ci25557': 2408, 'ci24033': 2409, 'ci24663': 2410, 'ci27839': 2411, 'ci25506': 2412, 'ci24643': 2413, 'ci24796': 2414, 'ci25861': 2415, 'ci26490': 2416, 'ci27145': 2417, 'ci24817': 2418, 'ci26046': 2419, 'ci24392': 2420, 'ci23863': 2421, 'ci26669': 2422, 'ci23536': 2423, 'ci27639': 2424, 'ci27245': 2425, 'ci27728': 2426, 'ci25946': 2427, 'ci24681': 2428, 'ci24684': 2429, 'ci28846': 2430, 'ci28359': 2431, 'ci25894': 2432, 'ci24403': 2433, 'ci28317': 2434, 'ci25229': 2435, 'ci25262': 2436, 'ci24759': 2437, 'ci26647': 2438, 'ci25503': 2439, 'ci26314': 2440, 'ci27265': 2441, 'ci24544': 2442, 'ci26305': 2443, 'ci28031': 2444, 'ci23906': 2445, 'ci26589': 2446, 'ci27723': 2447, 'ci27771': 2448, 'ci28875': 2449, 'ci24434': 2450, 'ci27738': 2451, 'ci24075': 2452, 'ci25810': 2453, 'ci25658': 2454, 'ci26561': 2455, 'ci25904': 2456, 'ci25865': 2457, 'ci26962': 2458, 'ci27837': 2459, 'ci23934': 2460, 'ci28143': 2461, 'ci26278': 2462, 'ci26297': 2463, 'ci28515': 2464, 'ci27508': 2465, 'ci23912': 2466, 'ci24462': 2467, 'ci24848': 2468, 'ci27106': 2469, 'ci27303': 2470, 'ci24516': 2471, 'ci24399': 2472, 'ci25839': 2473, 'ci25001': 2474, 'ci26431': 2475, 'ci28671': 2476, 'ci24164': 2477, 'ci26294': 2478, 'ci28219': 2479, 'ci24686': 2480, 'ci24665': 2481, 'ci28795': 2482, 'ci27692': 2483, 'ci25785': 2484, 'ci23699': 2485, 'ci25691': 2486, 'ci26683': 2487, 'ci26083': 2488, 'ci28516': 2489, 'ci26711': 2490, 'ci27914': 2491, 'ci27504': 2492, 'ci27364': 2493, 'ci27373': 2494, 'ci24279': 2495, 'ci26599': 2496, 'ci28148': 2497, 'ci28589': 2498, 'ci25215': 2499, 'ci26357': 2500, 'ci27731': 2501, 'ci23995': 2502, 'ci24488': 2503, 'ci27090': 2504, 'ci27838': 2505, 'ci26475': 2506, 'ci26450': 2507, 'ci24696': 2508, 'ci27158': 2509, 'ci26560': 2510, 'ci27542': 2511, 'ci27099': 2512, 'ci24002': 2513, 'ci27405': 2514, 'ci26301': 2515, 'ci23533': 2516, 'ci23733': 2517, 'ci26983': 2518, 'ci25206': 2519, 'ci26734': 2520, 'ci24653': 2521, 'ci27238': 2522, 'ci27252': 2523, 'ci26665': 2524, 'ci24352': 2525, 'ci23978': 2526, 'ci26963': 2527, 'ci26748': 2528, 'ci24008': 2529, 'ci23982': 2530, 'ci27708': 2531, 'ci28724': 2532, 'ci24457': 2533, 'ci24640': 2534, 'ci28917': 2535, 'ci25415': 2536, 'ci23590': 2537, 'ci27126': 2538, 'ci27060': 2539, 'ci25770': 2540, 'ci28067': 2541, 'ci25402': 2542, 'ci26476': 2543, 'ci23664': 2544, 'ci28422': 2545, 'ci26596': 2546, 'ci28606': 2547, 'ci27057': 2548, 'ci26682': 2549, 'ci26307': 2550, 'ci25382': 2551, 'ci27546': 2552, 'ci28526': 2553, 'ci25182': 2554, 'ci26763': 2555, 'ci28487': 2556, 'ci27450': 2557, 'ci27497': 2558, 'ci27502': 2559, 'ci23512': 2560, 'ci24072': 2561, 'ci23828': 2562, 'ci25360': 2563, 'ci27318': 2564, 'ci28496': 2565, 'ci26133': 2566, 'ci26757': 2567, 'ci26798': 2568, 'ci27841': 2569, 'ci27776': 2570, 'ci28531': 2571, 'ci23838': 2572, 'ci26568': 2573, 'ci24627': 2574, 'ci25213': 2575, 'ci28612': 2576, 'ci27506': 2577, 'ci28300': 2578, 'ci28905': 2579, 'ci24316': 2580, 'ci24539': 2581, 'ci28839': 2582, 'ci28945': 2583, 'ci25702': 2584, 'ci23756': 2585, 'ci27572': 2586, 'ci27247': 2587, 'ci27599': 2588, 'ci24449': 2589, 'ci25392': 2590, 'ci25665': 2591, 'ci27571': 2592, 'ci25265': 2593, 'ci28718': 2594, 'ci24578': 2595, 'ci25138': 2596, 'ci26670': 2597, 'ci25552': 2598, 'ci24182': 2599, 'ci28026': 2600, 'ci28458': 2601, 'ci26260': 2602, 'ci24800': 2603, 'ci23748': 2604, 'ci28685': 2605, 'ci24410': 2606, 'ci28837': 2607, 'ci27490': 2608, 'ci28404': 2609, 'ci25961': 2610, 'ci27157': 2611, 'ci24987': 2612, 'ci24265': 2613, 'ci27372': 2614, 'ci26706': 2615, 'ci26702': 2616, 'ci24223': 2617, 'ci24885': 2618, 'ci24011': 2619, 'ci25905': 2620, 'ci25323': 2621, 'ci27773': 2622, 'ci27269': 2623, 'ci24342': 2624, 'ci25549': 2625, 'ci25860': 2626, 'ci27737': 2627, 'ci27757': 2628, 'ci23824': 2629, 'ci25461': 2630, 'ci28311': 2631, 'ci23652': 2632, 'ci26224': 2633, 'ci23832': 2634, 'ci25795': 2635, 'ci27897': 2636, 'ci25824': 2637, 'ci25288': 2638, 'ci25675': 2639, 'ci26726': 2640, 'ci25185': 2641, 'ci24019': 2642, 'ci25268': 2643, 'ci28680': 2644, 'ci25386': 2645, 'ci27684': 2646, 'ci27505': 2647, 'ci24736': 2648, 'ci25532': 2649, 'ci28978': 2650, 'ci23868': 2651, 'ci24964': 2652, 'ci27536': 2653, 'ci28163': 2654, 'ci23779': 2655, 'ci25577': 2656, 'ci26462': 2657, 'ci24041': 2658, 'ci24683': 2659, 'ci24016': 2660, 'ci23991': 2661, 'ci23749': 2662, 'ci25428': 2663, 'ci26603': 2664, 'ci26784': 2665, 'ci24124': 2666, 'ci27452': 2667, 'ci28034': 2668, 'ci27202': 2669, 'ci24405': 2670, 'ci25267': 2671, 'ci25787': 2672, 'ci28750': 2673, 'ci25816': 2674, 'ci27929': 2675, 'ci27937': 2676, 'ci25976': 2677, 'ci25714': 2678, 'ci25176': 2679, 'ci28397': 2680, 'ci28807': 2681, 'ci27874': 2682, 'ci24813': 2683, 'ci28033': 2684, 'ci26708': 2685, 'ci26488': 2686, 'ci25892': 2687, 'ci25429': 2688, 'ci25470': 2689, 'ci25547': 2690, 'ci26578': 2691, 'ci28357': 2692, 'ci26790': 2693, 'ci23858': 2694, 'ci28440': 2695, 'ci27861': 2696, 'ci28808': 2697, 'ci23939': 2698, 'ci25712': 2699, 'ci26663': 2700, 'ci25349': 2701, 'ci27059': 2702, 'ci26600': 2703, 'ci27510': 2704, 'ci27071': 2705, 'ci27925': 2706, 'ci24550': 2707, 'ci25465': 2708, 'ci28838': 2709, 'ci26563': 2710, 'ci25181': 2711, 'ci28720': 2712, 'ci24561': 2713, 'ci24064': 2714, 'ci26227': 2715, 'ci26746': 2716, 'ci23572': 2717, 'ci28038': 2718, 'ci25246': 2719, 'ci28328': 2720, 'ci28843': 2721, 'ci25504': 2722, 'ci25203': 2723, 'ci24688': 2724, 'ci26800': 2725, 'ci25802': 2726, 'ci23678': 2727, 'ci26232': 2728, 'ci23711': 2729, 'ci23497': 2730, 'ci26744': 2731, 'ci24161': 2732, 'ci25564': 2733, 'ci26126': 2734, 'ci24411': 2735, 'ci25543': 2736, 'ci26531': 2737, 'ci24909': 2738, 'ci28232': 2739, 'ci24451': 2740, 'ci26074': 2741, 'ci25563': 2742, 'ci26677': 2743, 'ci26538': 2744, 'ci28392': 2745, 'ci26256': 2746, 'ci25690': 2747, 'ci25828': 2748, 'ci25539': 2749, 'ci23752': 2750, 'ci27081': 2751, 'ci25520': 2752, 'ci26362': 2753, 'ci24287': 2754, 'ci24226': 2755, 'ci24078': 2756, 'ci26062': 2757, 'ci24062': 2758, 'ci26454': 2759, 'ci24861': 2760, 'ci23645': 2761, 'ci26664': 2762, 'ci24988': 2763, 'ci27848': 2764, 'ci25376': 2765, 'ci27818': 2766, 'ci27561': 2767, 'ci27155': 2768, 'ci27085': 2769, 'ci27241': 2770, 'ci26772': 2771, 'ci23925': 2772, 'ci25808': 2773, 'ci23751': 2774, 'ci27293': 2775, 'ci24334': 2776, 'ci25388': 2777, 'ci28296': 2778, 'ci26811': 2779, 'ci25616': 2780, 'ci25838': 2781, 'ci23492': 2782, 'ci24497': 2783, 'ci24286': 2784, 'ci23899': 2785, 'ci28897': 2786, 'ci27181': 2787, 'ci24092': 2788, 'ci24976': 2789, 'ci26482': 2790, 'ci24708': 2791, 'ci27174': 2792, 'ci28797': 2793, 'ci26703': 2794, 'ci25387': 2795, 'ci26630': 2796, 'ci24185': 2797, 'ci26148': 2798, 'ci26481': 2799, 'ci25554': 2800, 'ci24083': 2801, 'ci26239': 2802, 'ci27634': 2803, 'ci25464': 2804, 'ci25173': 2805, 'ci23753': 2806, 'ci25325': 2807, 'ci25394': 2808, 'ci28161': 2809, 'ci24689': 2810, 'ci26437': 2811, 'ci26240': 2812, 'ci27859': 2813, 'ci27180': 2814, 'ci28987': 2815, 'ci24358': 2816, 'ci28677': 2817, 'ci27986': 2818, 'ci28242': 2819, 'ci28970': 2820, 'ci24133': 2821, 'ci23715': 2822, 'ci25767': 2823, 'ci24331': 2824, 'ci28035': 2825, 'ci25212': 2826, 'ci24486': 2827, 'ci28217': 2828, 'ci25155': 2829, 'ci25379': 2830, 'ci28063': 2831, 'ci25231': 2832, 'ci24211': 2833, 'ci23604': 2834, 'ci24704': 2835, 'ci26699': 2836, 'ci24847': 2837, 'ci26296': 2838, 'ci28318': 2839, 'ci24049': 2840, 'ci25364': 2841, 'ci24693': 2842, 'ci26637': 2843, 'ci26529': 2844, 'ci24319': 2845, 'ci28025': 2846, 'ci27845': 2847, 'ci27840': 2848, 'ci24361': 2849, 'ci27459': 2850, 'ci23902': 2851, 'ci24585': 2852, 'ci27617': 2853, 'ci26666': 2854, 'ci25208': 2855, 'ci28903': 2856, 'ci27760': 2857, 'ci25710': 2858, 'ci26528': 2859, 'ci26112': 2860, 'ci25708': 2861, 'ci27104': 2862, 'ci28068': 2863, 'ci25314': 2864, 'ci26982': 2865, 'ci28167': 2866, 'ci23860': 2867, 'ci25536': 2868, 'ci28890': 2869, 'ci27530': 2870, 'ci27260': 2871, 'ci25401': 2872, 'ci27097': 2873, 'ci26555': 2874, 'ci26330': 2875, 'ci25895': 2876, 'ci25936': 2877, 'ci27772': 2878, 'ci25377': 2879, 'ci27182': 2880, 'ci24477': 2881, 'ci27424': 2882, 'ci23529': 2883, 'ci25357': 2884, 'ci25344': 2885, 'ci28096': 2886, 'ci26487': 2887, 'ci25576': 2888, 'ci25393': 2889, 'ci26228': 2890, 'ci23898': 2891, 'ci25405': 2892, 'ci26268': 2893, 'ci28423': 2894, 'ci27552': 2895, 'ci23509': 2896, 'ci28755': 2897, 'ci26539': 2898, 'ci27062': 2899, 'ci27756': 2900, 'ci26766': 2901, 'ci25908': 2902, 'ci28478': 2903, 'ci25618': 2904, 'ci26333': 2905, 'ci27279': 2906, 'ci25007': 2907, 'ci25009': 2908, 'ci28032': 2909, 'ci24315': 2910, 'ci28498': 2911, 'ci25010': 2912, 'ci23576': 2913, 'ci24853': 2914, 'ci23551': 2915, 'ci26267': 2916, 'ci26509': 2917, 'ci27187': 2918, 'ci27520': 2919, 'ci25538': 2920, 'ci28147': 2921, 'ci23810': 2922, 'ci26791': 2923, 'ci27165': 2924, 'ci28635': 2925, 'ci27711': 2926, 'ci27125': 2927, 'ci27378': 2928, 'ci26519': 2929, 'ci28935': 2930, 'ci27089': 2931, 'ci27507': 2932, 'ci26298': 2933, 'ci26530': 2934, 'ci27720': 2935, 'ci27729': 2936, 'ci28990': 2937, 'ci24797': 2938, 'ci25309': 2939, 'ci25533': 2940, 'ci28906': 2941, 'ci28869': 2942, 'ci24823': 2943, 'ci24090': 2944, 'ci25621': 2945, 'ci24044': 2946, 'ci23775': 2947, 'ci24581': 2948, 'ci26597': 2949, 'ci25877': 2950, 'ci26610': 2951, 'ci26719': 2952, 'ci26688': 2953, 'ci27248': 2954, 'ci27218': 2955, 'ci25693': 2956, 'ci26616': 2957, 'ci26471': 2958, 'ci25385': 2959, 'ci27540': 2960, 'ci24694': 2961, 'ci23486': 2962, 'ci23755': 2963, 'ci27499': 2964, 'ci26562': 2965, 'ci27016': 2966, 'ci24398': 2967, 'ci25211': 2968, 'ci26222': 2969, 'ci27973': 2970, 'ci27570': 2971, 'ci23613': 2972, 'ci24682': 2973, 'ci23494': 2974, 'ci28162': 2975, 'ci24079': 2976, 'ci24333': 2977, 'ci23900': 2978, 'ci26534': 2979, 'ci24130': 2980, 'ci29032': 2981, 'ci25719': 2982, 'ci25950': 2983, 'ci23532': 2984, 'ci28088': 2985, 'ci27555': 2986, 'ci24480': 2987, 'ci23609': 2988, 'ci28756': 2989, 'ci26762': 2990, 'ci28460': 2991, 'ci24557': 2992, 'ci24572': 2993, 'ci23560': 2994, 'ci27471': 2995, 'ci27409': 2996, 'ci27875': 2997, 'ci27868': 2998, 'ci27870': 2999, 'ci27873': 3000, 'ci28614': 3001, 'ci25395': 3002, 'ci24695': 3003, 'ci24520': 3004, 'ci26117': 3005, 'ci28153': 3006, 'ci24517': 3007, 'ci25717': 3008, 'ci28136': 3009, 'ci28028': 3010, 'ci26311': 3011, 'ci27588': 3012, 'ci26802': 3013, 'ci23809': 3014, 'ci27156': 3015, 'ci26434': 3016, 'ci26100': 3017, 'ci28948': 3018, 'ci28093': 3019, 'ci28799': 3020, 'ci25944': 3021, 'ci25694': 3022, 'ci27622': 3023, 'ci27267': 3024, 'ci24587': 3025, 'ci28202': 3026, 'ci25526': 3027, 'ci25679': 3028, 'ci28360': 3029, 'ci25197': 3030, 'ci24774': 3031, 'ci23797': 3032, 'ci26569': 3033, 'ci26590': 3034, 'ci24735': 3035, 'ci26739': 3036, 'ci25761': 3037, 'ci26687': 3038, 'ci23679': 3039, 'ci24584': 3040, 'ci25878': 3041, 'ci25793': 3042, 'ci26714': 3043, 'ci26723': 3044, 'ci27606': 3045, 'ci27568': 3046, 'ci26132': 3047, 'ci28992': 3048, 'ci26009': 3049, 'ci27375': 3050, 'ci27250': 3051, 'ci27386': 3052, 'ci23630': 3053, 'ci28131': 3054, 'ci27956': 3055, 'ci26354': 3056, 'ci26020': 3057, 'ci26494': 3058, 'ci23620': 3059, 'ci24551': 3060, 'ci27472': 3061, 'ci25187': 3062, 'ci27406': 3063, 'ci28467': 3064, 'ci23508': 3065, 'ci26793': 3066, 'ci27613': 3067, 'ci25061': 3068, 'ci27827': 3069, 'ci25196': 3070, 'ci25475': 3071, 'ci26778': 3072, 'ci24395': 3073, 'ci24501': 3074, 'ci23701': 3075, 'ci26483': 3076, 'ci28159': 3077, 'ci28160': 3078, 'ci23729': 3079, 'ci26225': 3080, 'ci26235': 3081, 'ci25668': 3082, 'ci28980': 3083, 'ci27223': 3084, 'ci28835': 3085, 'ci26601': 3086, 'ci25025': 3087, 'ci23772': 3088, 'ci27995': 3089, 'ci28753': 3090, 'ci27160': 3091, 'ci28461': 3092, 'ci29002': 3093, 'ci26244': 3094, 'ci27219': 3095, 'ci24818': 3096, 'ci28271': 3097, 'ci27213': 3098, 'ci28249': 3099, 'ci28599': 3100, 'ci27138': 3101, 'ci27281': 3102, 'ci27876': 3103, 'ci28566': 3104, 'ci25086': 3105, 'ci27495': 3106, 'ci27274': 3107, 'ci26472': 3108, 'ci28053': 3109, 'ci24697': 3110, 'ci23482': 3111, 'ci23577': 3112, 'ci28284': 3113, 'ci23862': 3114, 'ci27133': 3115, 'ci26498': 3116, 'ci27232': 3117, 'ci23930': 3118, 'ci24498': 3119, 'ci25452': 3120, 'ci24626': 3121, 'ci25606': 3122, 'ci28588': 3123, 'ci27835': 3124, 'ci27842': 3125, 'ci25900': 3126, 'ci24047': 3127, 'ci28211': 3128, 'ci28933': 3129, 'ci24061': 3130, 'ci28944': 3131, 'ci26292': 3132, 'ci29011': 3133, 'ci25545': 3134, 'ci24570': 3135, 'ci27693': 3136, 'ci26697': 3137, 'ci27748': 3138, 'ci25474': 3139, 'ci26552': 3140, 'ci23800': 3141, 'ci24772': 3142, 'ci24566': 3143, 'ci24302': 3144, 'ci25876': 3145, 'ci27640': 3146, 'ci28821': 3147, 'ci27254': 3148, 'ci27087': 3149, 'ci27132': 3150, 'ci28867': 3151, 'ci27154': 3152, 'ci26033': 3153, 'ci26609': 3154, 'ci27256': 3155, 'ci24077': 3156, 'ci26097': 3157, 'ci27429': 3158, 'ci28004': 3159, 'ci27398': 3160, 'ci25517': 3161, 'ci28139': 3162, 'ci25581': 3163, 'ci25390': 3164, 'ci27688': 3165, 'ci24208': 3166, 'ci28528': 3167, 'ci28653': 3168, 'ci25615': 3169, 'ci23722': 3170, 'ci27890': 3171, 'ci28831': 3172, 'ci26794': 3173, 'ci28134': 3174, 'ci28877': 3175, 'ci26480': 3176, 'ci26042': 3177, 'ci27152': 3178, 'ci25619': 3179, 'ci28405': 3180, 'ci26588': 3181, 'ci25152': 3182, 'ci23850': 3183, 'ci25948': 3184, 'ci24685': 3185, 'ci23962': 3186, 'ci25540': 3187, 'ci25843': 3188, 'ci24354': 3189, 'ci26468': 3190, 'ci25003': 3191, 'ci27246': 3192, 'ci24006': 3193, 'ci27436': 3194, 'ci27107': 3195, 'ci27855': 3196, 'ci27857': 3197, 'ci28483': 3198, 'ci26852': 3199, 'ci28971': 3200, 'ci26626': 3201, 'ci25420': 3202, 'ci28293': 3203, 'ci28407': 3204, 'ci28979': 3205, 'ci28704': 3206, 'ci23897': 3207, 'ci28759': 3208, 'ci28754': 3209, 'ci25640': 3210, 'ci27140': 3211, 'ci25620': 3212, 'ci24299': 3213, 'ci24559': 3214, 'ci24565': 3215, 'ci24541': 3216, 'ci24629': 3217, 'ci25608': 3218, 'ci27871': 3219, 'ci24850': 3220, 'ci24195': 3221, 'ci28402': 3222, 'ci28154': 3223, 'ci28016': 3224, 'ci27339': 3225, 'ci28340': 3226, 'ci28336': 3227, 'ci23742': 3228, 'ci23527': 3229, 'ci28114': 3230, 'ci28040': 3231, 'ci28066': 3232, 'ci28598': 3233, 'ci24463': 3234, 'ci26441': 3235, 'ci24977': 3236, 'ci24749': 3237, 'ci28459': 3238, 'ci24576': 3239, 'ci26712': 3240, 'ci27449': 3241, 'ci24335': 3242, 'ci27114': 3243, 'ci28490': 3244, 'ci26111': 3245, 'ci28810': 3246, 'ci27380': 3247, 'ci27371': 3248, 'ci27374': 3249, 'ci27511': 3250, 'ci26098': 3251, 'ci28456': 3252, 'ci23571': 3253, 'ci25243': 3254, 'ci26735': 3255, 'ci27094': 3256, 'ci27192': 3257, 'ci25972': 3258, 'ci27817': 3259, 'ci23904': 3260, 'ci28793': 3261, 'ci25242': 3262, 'ci27164': 3263, 'ci28102': 3264, 'ci24295': 3265, 'ci28064': 3266, 'ci26524': 3267, 'ci24311': 3268, 'ci26473': 3269, 'ci23739': 3270, 'ci28454': 3271, 'ci27696': 3272, 'ci27249': 3273, 'ci27257': 3274, 'ci28930': 3275, 'ci25343': 3276, 'ci27715': 3277, 'ci23605': 3278, 'ci25472': 3279, 'ci28736': 3280, 'ci26693': 3281, 'ci27500': 3282, 'ci25088': 3283, 'ci25378': 3284, 'ci28521': 3285, 'ci25638': 3286, 'ci28774': 3287, 'ci28484': 3288, 'ci23719': 3289, 'ci25953': 3290, 'ci27880': 3291, 'ci24810': 3292, 'ci27426': 3293, 'ci28748': 3294, 'ci28702': 3295, 'ci25595': 3296, 'ci24567': 3297, 'ci28745': 3298, 'ci23485': 3299, 'ci24365': 3300, 'ci23746': 3301, 'ci23640': 3302, 'ci25687': 3303, 'ci26525': 3304, 'ci28493': 3305, 'ci26285': 3306, 'ci25245': 3307, 'ci27583': 3308, 'ci26384': 3309, 'ci25471': 3310, 'ci25240': 3311, 'ci28166': 3312, 'ci26280': 3313, 'ci26584': 3314, 'ci26747': 3315, 'ci26430': 3316, 'ci26226': 3317, 'ci26082': 3318, 'ci24051': 3319, 'ci26377': 3320, 'ci27105': 3321, 'ci27073': 3322, 'ci27866': 3323, 'ci27865': 3324, 'ci26733': 3325, 'ci26775': 3326, 'ci27197': 3327, 'ci25348': 3328, 'ci28848': 3329, 'ci25307': 3330, 'ci23984': 3331, 'ci26797': 3332, 'ci28030': 3333, 'ci24803': 3334, 'ci24799': 3335, 'ci28449': 3336, 'ci25641': 3337, 'ci24201': 3338, 'ci26295': 3339, 'ci27687': 3340, 'ci26641': 3341, 'ci25426': 3342, 'ci25384': 3343, 'ci27179': 3344, 'ci27726': 3345, 'ci24733': 3346, 'ci26143': 3347, 'ci28061': 3348, 'ci27460': 3349, 'ci25020': 3350, 'ci25372': 3351, 'ci26624': 3352, 'ci27647': 3353, 'ci24069': 3354, 'ci28565': 3355, 'ci27341': 3356, 'ci25852': 3357, 'ci28344': 3358, 'ci27139': 3359, 'ci27082': 3360, 'ci23670': 3361, 'ci26499': 3362, 'ci25224': 3363, 'ci25832': 3364, 'ci27761': 3365, 'ci28833': 3366, 'ci24073': 3367, 'ci25252': 3368, 'ci24050': 3369, 'ci24676': 3370, 'ci26104': 3371, 'ci26128': 3372, 'ci26131': 3373, 'ci28462': 3374, 'ci28977': 3375, 'ci23629': 3376, 'ci28600': 3377, 'ci25427': 3378, 'ci25964': 3379, 'ci25958': 3380, 'ci28801': 3381, 'ci28627': 3382, 'ci27581': 3383, 'ci27753': 3384, 'ci24159': 3385, 'ci26535': 3386, 'ci26293': 3387, 'ci25864': 3388, 'ci26096': 3389, 'ci27607': 3390, 'ci28934': 3391, 'ci28859': 3392, 'ci28251': 3393, 'ci25586': 3394, 'ci28757': 3395, 'ci28758': 3396, 'ci25940': 3397, 'ci24632': 3398, 'ci25827': 3399, 'ci25670': 3400, 'ci23686': 3401, 'ci28617': 3402, 'ci25209': 3403, 'ci26447': 3404, 'ci25527': 3405, 'ci24542': 3406, 'ci24300': 3407, 'ci25875': 3408, 'ci25883': 3409, 'ci28860': 3410, 'ci26732': 3411, 'ci26725': 3412, 'ci27086': 3413, 'ci25456': 3414, 'ci28291': 3415, 'ci24221': 3416, 'ci27061': 3417, 'ci28878': 3418, 'ci28049': 3419, 'ci23857': 3420, 'ci25523': 3421, 'ci24227': 3422, 'ci24444': 3423, 'ci23507': 3424, 'ci27525': 3425, 'ci27777': 3426, 'ci27577': 3427, 'ci29048': 3428, 'ci25264': 3429, 'ci28470': 3430, 'ci26710': 3431, 'ci26774': 3432, 'ci27166': 3433, 'ci28715': 3434, 'ci27396': 3435, 'ci24222': 3436, 'ci25226': 3437, 'ci25853': 3438, 'ci28309': 3439, 'ci27763': 3440, 'ci26040': 3441, 'ci25978': 3442, 'ci26848': 3443, 'ci25434': 3444, 'ci24555': 3445, 'ci28233': 3446, 'ci27605': 3447, 'ci26709': 3448, 'ci28883': 3449, 'ci24074': 3450, 'ci25798': 3451, 'ci23894': 3452, 'ci28094': 3453, 'ci26532': 3454, 'ci27881': 3455, 'ci25467': 3456, 'ci25642': 3457, 'ci27947': 3458, 'ci26673': 3459, 'ci25218': 3460, 'ci25424': 3461, 'ci28634': 3462, 'ci28602': 3463, 'ci24345': 3464, 'ci24506': 3465, 'ci28952': 3466, 'ci27598': 3467, 'ci28731': 3468, 'ci26140': 3469, 'ci25951': 3470, 'ci28156': 3471, 'ci25578': 3472, 'ci26243': 3473, 'ci26795': 3474, 'ci25198': 3475, 'ci24123': 3476, 'ci23656': 3477, 'ci24113': 3478, 'ci26084': 3479, 'ci23672': 3480, 'ci23728': 3481, 'ci26347': 3482, 'ci27938': 3483, 'ci27091': 3484, 'ci24307': 3485, 'ci24386': 3486, 'ci25534': 3487, 'ci23844': 3488, 'ci26237': 3489, 'ci27103': 3490, 'ci27083': 3491, 'ci24770': 3492, 'ci24982': 3493, 'ci24387': 3494, 'ci28225': 3495, 'ci27863': 3496, 'ci28597': 3497, 'ci27115': 3498, 'ci26622': 3499, 'ci26387': 3500, 'ci28972': 3501, 'ci24377': 3502, 'ci28494': 3503, 'ci25548': 3504, 'ci28396': 3505, 'ci24369': 3506, 'ci26094': 3507, 'ci27951': 3508, 'ci26979': 3509, 'ci28752': 3510, 'ci25837': 3511, 'ci28806': 3512, 'ci24298': 3513, 'ci25236': 3514, 'ci24742': 3515, 'ci28963': 3516, 'ci24258': 3517, 'ci24699': 3518, 'ci25012': 3519, 'ci25017': 3520, 'ci28370': 3521, 'ci27574': 3522, 'ci23573': 3523, 'ci25550': 3524, 'ci27594': 3525, 'ci28686': 3526, 'ci26308': 3527, 'ci28512': 3528, 'ci27363': 3529, 'ci28260': 3530, 'ci23561': 3531, 'ci28091': 3532, 'ci23489': 3533, 'ci28078': 3534, 'ci27834': 3535, 'ci27453': 3536, 'ci28870': 3537, 'ci28142': 3538, 'ci28320': 3539, 'ci27718': 3540, 'ci28711': 3541, 'ci28931': 3542, 'ci26478': 3543, 'ci26093': 3544, 'ci25692': 3545, 'ci25512': 3546, 'ci26365': 3547, 'ci28956': 3548, 'ci25882': 3549, 'ci25573': 3550, 'ci25870': 3551, 'ci25835': 3552, 'ci29027': 3553, 'ci28411': 3554, 'ci27120': 3555, 'ci23520': 3556, 'ci23523': 3557, 'ci24635': 3558, 'ci25969': 3559, 'ci28616': 3560, 'ci28666': 3561, 'ci28629': 3562, 'ci26605': 3563, 'ci23852': 3564, 'ci26255': 3565, 'ci26461': 3566, 'ci26644': 3567, 'ci28898': 3568, 'ci28661': 3569, 'ci26439': 3570, 'ci23807': 3571, 'ci27367': 3572, 'ci26374': 3573, 'ci25481': 3574, 'ci26731': 3575, 'ci24360': 3576, 'ci28964': 3577, 'ci27134': 3578, 'ci25192': 3579, 'ci24613': 3580, 'ci24042': 3581, 'ci23548': 3582, 'ci24647': 3583, 'ci25933': 3584, 'ci27712': 3585, 'ci25201': 3586, 'ci28276': 3587, 'ci28255': 3588, 'ci25568': 3589, 'ci25389': 3590, 'ci27578': 3591, 'ci26523': 3592, 'ci26627': 3593, 'ci28151': 3594, 'ci25580': 3595, 'ci25868': 3596, 'ci26312': 3597, 'ci27214': 3598, 'ci26764': 3599, 'ci26761': 3600, 'ci27407': 3601, 'ci24814': 3602, 'ci28438': 3603, 'ci25205': 3604, 'ci28879': 3605, 'ci28873': 3606, 'ci27302': 3607, 'ci27412': 3608, 'ci28852': 3609, 'ci26809': 3610, 'ci26015': 3611, 'ci26016': 3612, 'ci28804': 3613, 'ci25318': 3614, 'ci23988': 3615, 'ci24549': 3616, 'ci28236': 3617, 'ci26367': 3618, 'ci25840': 3619, 'ci28141': 3620, 'ci28868': 3621, 'ci28452': 3622, 'ci28962': 3623, 'ci24136': 3624, 'ci27587': 3625, 'ci28057': 3626, 'ci26497': 3627, 'ci27110': 3628, 'ci27454': 3629, 'ci28003': 3630, 'ci23685': 3631, 'ci25448': 3632, 'ci28546': 3633, 'ci24337': 3634, 'ci28444': 3635, 'ci26527': 3636, 'ci26574': 3637, 'ci26275': 3638, 'ci27151': 3639, 'ci29045': 3640, 'ci28847': 3641, 'ci28708': 3642, 'ci25166': 3643, 'ci28601': 3644, 'ci28386': 3645, 'ci23684': 3646, 'ci24747': 3647, 'ci28039': 3648, 'ci28098': 3649, 'ci25273': 3650, 'ci25204': 3651, 'ci25202': 3652, 'ci28882': 3653, 'ci28851': 3654, 'ci24165': 3655, 'ci25700': 3656, 'ci27308': 3657, 'ci26575': 3658, 'ci26586': 3659, 'ci27123': 3660, 'ci27996': 3661, 'ci28517': 3662, 'ci26608': 3663, 'ci25607': 3664, 'ci24593': 3665, 'ci26066': 3666, 'ci27331': 3667, 'ci26238': 3668, 'ci28011': 3669, 'ci28152': 3670, 'ci25613': 3671, 'ci27317': 3672, 'ci28988': 3673, 'ci24321': 3674, 'ci25337': 3675, 'ci23815': 3676, 'ci25774': 3677, 'ci28683': 3678, 'ci28520': 3679, 'ci28625': 3680, 'ci25293': 3681, 'ci27388': 3682, 'ci23981': 3683, 'ci23593': 3684, 'ci26486': 3685, 'ci28993': 3686, 'ci24414': 3687, 'ci27076': 3688, 'ci27072': 3689, 'ci27864': 3690, 'ci28272': 3691, 'ci23835': 3692, 'ci25491': 3693, 'ci25519': 3694, 'ci24777': 3695, 'ci28005': 3696, 'ci28213': 3697, 'ci28008': 3698, 'ci28986': 3699, 'ci27943': 3700, 'ci24181': 3701, 'ci23738': 3702, 'ci27323': 3703, 'ci28894': 3704, 'ci27299': 3705, 'ci27169': 3706, 'ci26808': 3707, 'ci28751': 3708, 'ci26149': 3709, 'ci28856': 3710, 'ci26668': 3711, 'ci24990': 3712, 'ci28706': 3713, 'ci28013': 3714, 'ci26122': 3715, 'ci26628': 3716, 'ci25489': 3717, 'ci28536': 3718, 'ci28155': 3719, 'ci24153': 3720, 'ci24802': 3721, 'ci28466': 3722, 'ci24215': 3723, 'ci23570': 3724, 'ci25750': 3725, 'ci26636': 3726, 'ci27620': 3727, 'ci28739': 3728, 'ci25473': 3729, 'ci25966': 3730, 'ci26446': 3731, 'ci28529': 3732, 'ci28510': 3733, 'ci26456': 3734, 'ci28314': 3735, 'ci28475': 3736, 'ci28363': 3737, 'ci28674': 3738, 'ci26724': 3739, 'ci27824': 3740, 'ci26662': 3741, 'ci28504': 3742, 'ci27836': 3743, 'ci28640': 3744, 'ci25168': 3745, 'ci29016': 3746, 'ci24385': 3747, 'ci23478': 3748, 'ci28805': 3749, 'ci28803': 3750, 'ci28288': 3751, 'ci28246': 3752, 'ci28439': 3753, 'ci28604': 3754, 'ci25351': 3755, 'ci26520': 3756, 'ci25299': 3757, 'ci27579': 3758, 'ci26638': 3759, 'ci28137': 3760, 'ci26394': 3761, 'ci26395': 3762, 'ci24835': 3763, 'ci29031': 3764, 'ci24691': 3765, 'ci23588': 3766, 'ci26109': 3767, 'ci25400': 3768, 'ci28717': 3769, 'ci25541': 3770, 'ci26460': 3771, 'ci26134': 3772, 'ci26540': 3773, 'ci28110': 3774, 'ci25317': 3775, 'ci26102': 3776, 'ci25678': 3777, 'ci28958': 3778, 'ci26106': 3779, 'ci26069': 3780, 'ci28073': 3781, 'ci27170': 3782, 'ci25249': 3783, 'ci25502': 3784, 'ci25756': 3785, 'ci24564': 3786, 'ci28961': 3787, 'ci28306': 3788, 'ci25813': 3789, 'ci25522': 3790, 'ci28513': 3791, 'ci28518': 3792, 'ci27148': 3793, 'ci27216': 3794, 'ci25825': 3795, 'ci23481': 3796, 'ci23953': 3797, 'ci23820': 3798, 'ci24370': 3799, 'ci24738': 3800, 'ci24313': 3801, 'ci26072': 3802, 'ci28070': 3803, 'ci24540': 3804, 'ci24154': 3805, 'ci28660': 3806, 'ci28669': 3807, 'ci26537': 3808, 'ci26756': 3809, 'ci28507': 3810, 'ci24105': 3811, 'ci28639': 3812, 'ci28400': 3813, 'ci27746': 3814, 'ci28433': 3815, 'ci27177': 3816, 'ci26550': 3817, 'ci27210': 3818, 'ci28308': 3819, 'ci28307': 3820, 'ci28304': 3821, 'ci27320': 3822, 'ci27944': 3823, 'ci25480': 3824, 'ci26012': 3825, 'ci26044': 3826, 'ci25859': 3827, 'ci23553': 3828, 'ci27626': 3829, 'ci25954': 3830, 'ci28269': 3831, 'ci27064': 3832, 'ci26749': 3833, 'ci26327': 3834, 'ci27108': 3835, 'ci25718': 3836, 'ci26458': 3837, 'ci27603': 3838, 'ci28817': 3839, 'ci25190': 3840, 'ci28464': 3841, 'ci28447': 3842, 'ci28463': 3843, 'ci28594': 3844, 'ci27404': 3845, 'ci28628': 3846, 'ci25161': 3847, 'ci24149': 3848, 'ci25156': 3849, 'ci25164': 3850, 'ci25160': 3851, 'ci25244': 3852, 'ci23581': 3853, 'ci26007': 3854, 'ci28527': 3855, 'ci26322': 3856, 'ci28926': 3857, 'ci25703': 3858, 'ci28866': 3859, 'ci28501': 3860, 'ci28809': 3861, 'ci25435': 3862, 'ci28891': 3863, 'ci27277': 3864, 'ci25370': 3865, 'ci24967': 3866, 'ci28299': 3867, 'ci25842': 3868, 'ci27294': 3869, 'ci25189': 3870, 'ci24059': 3871, 'ci26689': 3872, 'ci23622': 3873, 'ci23680': 3874, 'ci27589': 3875, 'ci26336': 3876, 'ci27774': 3877, 'ci28401': 3878, 'ci26807': 3879, 'ci27994': 3880, 'ci24820': 3881, 'ci25772': 3882, 'ci25846': 3883, 'ci27316': 3884, 'ci28353': 3885, 'ci25651': 3886, 'ci28158': 3887, 'ci27636': 3888, 'ci27289': 3889, 'ci28109': 3890, 'ci26452': 3891, 'ci26604': 3892, 'ci24763': 3893, 'ci27259': 3894, 'ci27877': 3895, 'ci24979': 3896, 'ci27272': 3897, 'ci24280': 3898, 'ci24764': 3899, 'ci24947': 3900, 'ci24945': 3901, 'ci24948': 3902, 'ci26325': 3903, 'ci27220': 3904, 'ci24757': 3905, 'ci25872': 3906, 'ci24128': 3907, 'ci28815': 3908, 'ci27101': 3909, 'ci27102': 3910, 'ci27100': 3911, 'ci23849': 3912, 'ci27079': 3913, 'ci24485': 3914, 'ci24809': 3915, 'ci27940': 3916, 'ci28681': 3917, 'ci29030': 3918, 'ci25556': 3919, 'ci28638': 3920, 'ci28383': 3921, 'ci28267': 3922, 'ci27998': 3923, 'ci25404': 3924, 'ci26743': 3925, 'ci27119': 3926, 'ci23941': 3927, 'ci26284': 3928, 'ci26283': 3929, 'ci27862': 3930, 'ci27867': 3931, 'ci27860': 3932, 'ci28220': 3933, 'ci28222': 3934, 'ci27315': 3935, 'ci29012': 3936, 'ci28615': 3937, 'ci28036': 3938, 'ci28981': 3939, 'ci28254': 3940, 'ci28874': 3941, 'ci25647': 3942, 'ci28215': 3943, 'ci28216': 3944, 'ci24260': 3945, 'ci23544': 3946, 'ci23491': 3947, 'ci27948': 3948, 'ci27168': 3949, 'ci28079': 3950, 'ci26116': 3951, 'ci28670': 3952, 'ci23610': 3953, 'ci24547': 3954, 'ci25765': 3955, 'ci27590': 3956, 'ci25508': 3957, 'ci28829': 3958, 'ci24116': 3959, 'ci26695': 3960, 'ci27229': 3961, 'ci25183': 3962, 'ci28506': 3963, 'ci27997': 3964, 'ci24198': 3965, 'ci26010': 3966, 'ci27353': 3967, 'ci27343': 3968, 'ci27348': 3969, 'ci27340': 3970, 'ci27342': 3971, 'ci24577': 3972, 'ci26014': 3973, 'ci25945': 3974, 'ci23587': 3975, 'ci25369': 3976, 'ci26259': 3977, 'ci27703': 3978, 'ci24949': 3979, 'ci23834': 3980, 'ci24773': 3981, 'ci26342': 3982, 'ci28356': 3983, 'ci26371': 3984, 'ci27129': 3985, 'ci27822': 3986, 'ci27551': 3987, 'ci27849': 3988, 'ci26510': 3989, 'ci28682': 3990, 'ci26108': 3991, 'ci23802': 3992, 'ci25590': 3993, 'ci29039': 3994, 'ci28637': 3995, 'ci26253': 3996, 'ci25759': 3997, 'ci27383': 3998, 'ci28800': 3999, 'ci28746': 4000, 'ci27226': 4001, 'ci23524': 4002, 'ci28632': 4003, 'ci25847': 4004, 'ci24219': 4005, 'ci26544': 4006, 'ci27609': 4007, 'ci28721': 4008, 'ci23525': 4009, 'ci25313': 4010, 'ci28203': 4011, 'ci25885': 4012, 'ci26107': 4013, 'ci26103': 4014, 'ci26814': 4015, 'ci23710': 4016, 'ci26585': 4017, 'ci28996': 4018, 'ci26115': 4019, 'ci28343': 4020, 'ci25683': 4021, 'ci27322': 4022, 'ci25478': 4023, 'ci24021': 4024, 'ci24801': 4025, 'ci28347': 4026, 'ci25854': 4027, 'ci27672': 4028, 'ci28201': 4029, 'ci27095': 4030, 'ci27092': 4031, 'ci23799': 4032, 'ci23842': 4033, 'ci25047': 4034, 'ci24294': 4035, 'ci24560': 4036, 'ci28621': 4037, 'ci27830': 4038, 'ci24739': 4039, 'ci27130': 4040, 'ci27128': 4041, 'ci28294': 4042, 'ci27521': 4043, 'ci25807': 4044, 'ci27368': 4045, 'ci25422': 4046, 'ci25752': 4047, 'ci28101': 4048, 'ci23951': 4049, 'ci27498': 4050, 'ci25881': 4051, 'ci25565': 4052, 'ci24839': 4053, 'ci24614': 4054, 'ci27559': 4055, 'ci27052': 4056, 'ci28380': 4057, 'ci27628': 4058, 'ci26631': 4059, 'ci24508': 4060, 'ci25511': 4061, 'ci26360': 4062, 'ci28609': 4063, 'ci25955': 4064, 'ci27379': 4065, 'ci28019': 4066, 'ci28020': 4067, 'ci28432': 4068, 'ci25169': 4069, 'ci25460': 4070, 'ci28310': 4071, 'ci28303': 4072, 'ci25569': 4073, 'ci27397': 4074, 'ci29083': 4075, 'ci26005': 4076, 'ci26002': 4077, 'ci26786': 4078, 'ci26048': 4079, 'ci25707': 4080, 'ci27362': 4081, 'ci25626': 4082, 'ci27597': 4083, 'ci27602': 4084, 'ci26643': 4085, 'ci28525': 4086, 'ci26398': 4087, 'ci25866': 4088, 'ci25605': 4089, 'ci28690': 4090, 'ci23793': 4091, 'ci28339': 4092, 'ci25531': 4093, 'ci28555': 4094, 'ci26064': 4095, 'ci24761': 4096, 'ci25013': 4097, 'ci25165': 4098, 'ci28558': 4099, 'ci27185': 4100, 'ci26767': 4101, 'ci24782': 4102, 'ci28701': 4103, 'ci28738': 4104, 'ci27401': 4105, 'ci24750': 4106, 'ci27767': 4107, 'ci25927': 4108, 'ci28090': 4109, 'ci29024': 4110, 'ci28865': 4111, 'ci23725': 4112, 'ci26517': 4113, 'ci27205': 4114, 'ci26328': 4115, 'ci27230': 4116, 'ci24454': 4117, 'ci25270': 4118, 'ci25524': 4119, 'ci28331': 4120, 'ci28245': 4121, 'ci23747': 4122, 'ci28085': 4123, 'ci23638': 4124, 'ci27519': 4125, 'ci27479': 4126, 'ci27480': 4127, 'ci24758': 4128, 'ci28241': 4129, 'ci26613': 4130, 'ci25518': 4131, 'ci27423': 4132, 'ci26536': 4133, 'ci26310': 4134, 'ci24707': 4135, 'ci26977': 4136, 'ci24819': 4137, 'ci24514': 4138, 'ci25862': 4139, 'ci26718': 4140, 'ci28725': 4141, 'ci28733': 4142, 'ci26796': 4143, 'ci28009': 4144, 'ci24137': 4145, 'ci28157': 4146, 'ci27143': 4147, 'ci27635': 4148, 'ci27389': 4149, 'ci26645': 4150, 'ci27394': 4151, 'ci27889': 4152, 'ci24015': 4153, 'ci24381': 4154, 'ci24367': 4155, 'ci26313': 4156, 'ci24328': 4157, 'ci24318': 4158, 'ci24166': 4159, 'ci24317': 4160, 'ci24308': 4161, 'ci26317': 4162, 'ci27385': 4163, 'ci27392': 4164, 'ci26345': 4165, 'ci26344': 4166, 'ci23583': 4167, 'ci23602': 4168, 'ci28596': 4169, 'ci23585': 4170, 'ci24199': 4171, 'ci27496': 4172, 'ci27735': 4173, 'ci27477': 4174, 'ci24088': 4175, 'ci26334': 4176, 'ci25893': 4177, 'ci27819': 4178, 'ci25844': 4179, 'ci26075': 4180, 'ci25513': 4181, 'ci23985': 4182, 'ci28275': 4183, 'ci23918': 4184, 'ci28037': 4185, 'ci23495': 4186, 'ci25858': 4187, 'ci28368': 4188, 'ci27524': 4189, 'ci26150': 4190, 'ci28991': 4191, 'ci27858': 4192, 'ci26065': 4193, 'ci27296': 4194, 'ci27888': 4195, 'ci25308': 4196, 'ci27068': 4197, 'ci27478': 4198, 'ci29041': 4199, 'ci27070': 4200, 'ci24552': 4201, 'ci24826': 4202, 'ci28259': 4203, 'ci23542': 4204, 'ci25902': 4205, 'ci28301': 4206, 'ci23681': 4207, 'ci23682': 4208, 'ci28822': 4209, 'ci26564': 4210, 'ci26573': 4211, 'ci24783': 4212, 'ci26548': 4213, 'ci25044': 4214, 'ci27167': 4215, 'ci26545': 4216, 'ci24357': 4217, 'ci26364': 4218, 'ci23892': 4219, 'ci24563': 4220, 'ci24536': 4221, 'ci24993': 4222, 'ci26276': 4223, 'ci25011': 4224, 'ci28861': 4225, 'ci27826': 4226, 'ci28486': 4227, 'ci28072': 4228, 'ci28895': 4229, 'ci25589': 4230, 'ci27527': 4231, 'ci28426': 4232, 'ci29007': 4233, 'ci27067': 4234, 'ci26361': 4235, 'ci29059': 4236, 'ci23634': 4237, 'ci27253': 4238, 'ci29052': 4239, 'ci26375': 4240, 'ci29022': 4241, 'ci27376': 4242, 'ci28264': 4243, 'ci28973': 4244, 'ci26553': 4245, 'ci25959': 4246, 'ci25803': 4247, 'ci28315': 4248, 'ci25477': 4249, 'ci28394': 4250, 'ci25251': 4251, 'ci25779': 4252, 'ci27400': 4253, 'ci25973': 4254, 'ci28277': 4255, 'ci28563': 4256, 'ci23500': 4257, 'ci25579': 4258, 'ci24790': 4259, 'ci26011': 4260, 'ci28362': 4261, 'ci26125': 4262, 'ci28853': 4263, 'ci28055': 4264, 'ci27872': 4265, 'ci28692': 4266, 'ci27300': 4267, 'ci27432': 4268, 'ci28592': 4269, 'ci26018': 4270, 'ci27352': 4271, 'ci28075': 4272, 'ci28713': 4273, 'ci28749': 4274, 'ci26547': 4275, 'ci28345': 4276, 'ci28322': 4277, 'ci25635': 4278, 'ci25977': 4279, 'ci26496': 4280, 'ci24038': 4281, 'ci26230': 4282, 'ci26004': 4283, 'ci28270': 4284, 'ci28695': 4285, 'ci24104': 4286, 'ci27823': 4287, 'ci27821': 4288, 'ci26515': 4289, 'ci23488': 4290, 'ci26265': 4291, 'ci26753': 4292, 'ci27439': 4293, 'ci26101': 4294, 'ci27548': 4295, 'ci27952': 4296, 'ci23758': 4297, 'ci28823': 4298, 'ci25430': 4299, 'ci26017': 4300, 'ci28081': 4301, 'ci26372': 4302, 'ci26479': 4303, 'ci27402': 4304, 'ci28647': 4305, 'ci25867': 4306, 'ci29015': 4307, 'ci24815': 4308, 'ci28929': 4309, 'ci24991': 4310, 'ci28223': 4311, 'ci24537': 4312, 'ci25627': 4313, 'ci23706': 4314, 'ci24172': 4315, 'ci26779': 4316, 'ci26114': 4317, 'ci28100': 4318, 'ci28341': 4319, 'ci28342': 4320, 'ci24270': 4321, 'ci28820': 4322, 'ci25255': 4323, 'ci25701': 4324, 'ci27096': 4325, 'ci25873': 4326, 'ci28668': 4327, 'ci28060': 4328, 'ci27831': 4329, 'ci27770': 4330, 'ci25459': 4331, 'ci25525': 4332, 'ci26359': 4333, 'ci27135': 4334, 'ci28893': 4335, 'ci26068': 4336, 'ci27638': 4337, 'ci25476': 4338, 'ci25614': 4339, 'ci23821': 4340, 'ci24197': 4341, 'ci26352': 4342, 'ci26355': 4343, 'ci28547': 4344, 'ci26571': 4345, 'ci27408': 4346, 'ci25764': 4347, 'ci26396': 4348, 'ci27118': 4349, 'ci29050': 4350, 'ci28364': 4351, 'ci25261': 4352, 'ci28700': 4353, 'ci28562': 4354, 'ci28768': 4355, 'ci23883': 4356, 'ci28691': 4357, 'ci28727': 4358, 'ci28056': 4359, 'ci28492': 4360, 'ci29003': 4361, 'ci27147': 4362, 'ci28283': 4363, 'ci28502': 4364, 'ci27988': 4365, 'ci28976': 4366, 'ci28237': 4367, 'ci28620': 4368, 'ci26522': 4369, 'ci28023': 4370, 'ci28021': 4371, 'ci28014': 4372, 'ci28532': 4373, 'ci28618': 4374, 'ci28312': 4375, 'ci26770': 4376, 'ci26438': 4377, 'ci24574': 4378, 'ci25566': 4379, 'ci27514': 4380, 'ci26691': 4381, 'ci27689': 4382, 'ci28334': 4383, 'ci28146': 4384, 'ci24129': 4385, 'ci26370': 4386, 'ci24383': 4387, 'ci28376': 4388, 'ci26379': 4389, 'ci28083': 4390, 'ci24505': 4391, 'ci25591': 4392, 'ci23895': 4393, 'ci28437': 4394, 'ci26393': 4395, 'ci28132': 4396, 'ci28129': 4397, 'ci25780': 4398, 'ci28888': 4399, 'ci26153': 4400, 'ci24554': 4401, 'ci28709': 4402, 'ci25207': 4403, 'ci25310': 4404, 'ci24775': 4405, 'ci28448': 4406, 'ci26740': 4407, 'ci27610': 4408, 'ci29055': 4409, 'ci27775': 4410, 'ci25811': 4411, 'ci27616': 4412, 'ci25567': 4413, 'ci23550': 4414, 'ci25259': 4415, 'ci28424': 4416, 'ci28229': 4417, 'ci24602': 4418, 'ci27707': 4419, 'ci28548': 4420, 'ci25002': 4421, 'ci25358': 4422, 'ci26648': 4423, 'ci26632': 4424, 'ci25271': 4425, 'ci28292': 4426, 'ci28849': 4427, 'ci28603': 4428, 'ci28087': 4429, 'ci28097': 4430, 'ci24579': 4431, 'ci24714': 4432, 'ci24752': 4433, 'ci26754': 4434, 'ci28608': 4435, 'ci28850': 4436, 'ci26323': 4437, 'ci25942': 4438, 'ci28140': 4439, 'ci24423': 4440, 'ci25326': 4441, 'ci24163': 4442, 'ci25919': 4443, 'ci28764': 4444, 'ci28766': 4445, 'ci28765': 4446, 'ci28206': 4447, 'ci28289': 4448, 'ci24843': 4449, 'ci25850': 4450, 'ci23658': 4451, 'ci24022': 4452, 'ci27894': 4453, 'ci26594': 4454, 'ci28655': 4455, 'ci24994': 4456, 'ci27144': 4457, 'ci24452': 4458, 'ci24558': 4459, 'ci24453': 4460, 'ci25585': 4461, 'ci27713': 4462, 'ci29082': 4463, 'ci29081': 4464, 'ci26078': 4465, 'ci29049': 4466, 'ci26500': 4467, 'ci26495': 4468, 'ci25345': 4469, 'ci27503': 4470, 'ci23945': 4471, 'ci25831': 4472, 'ci26717': 4473, 'ci27582': 4474, 'ci28658': 4475, 'ci25856': 4476, 'ci25845': 4477, 'ci27903': 4478, 'ci24998': 4479, 'ci24830': 4480, 'ci23718': 4481, 'ci28082': 4482, 'ci28103': 4483, 'ci26433': 4484, 'ci23948': 4485, 'ci27194': 4486, 'ci23757': 4487, 'ci27695': 4488, 'ci28656': 4489, 'ci28329': 4490, 'ci25447': 4491, 'ci27884': 4492, 'ci24995': 4493, 'ci24375': 4494, 'ci24323': 4495, 'ci24312': 4496, 'ci24284': 4497, 'ci24288': 4498, 'ci28144': 4499, 'ci24162': 4500, 'ci28932': 4501, 'ci23597': 4502, 'ci23599': 4503, 'ci29057': 4504, 'ci25794': 4505, 'ci28095': 4506, 'ci27476': 4507, 'ci28352': 4508, 'ci26332': 4509, 'ci26331': 4510, 'ci26329': 4511, 'ci26326': 4512, 'ci26324': 4513, 'ci28844': 4514, 'ci27017': 4515, 'ci25981': 4516, 'ci27697': 4517, 'ci27700': 4518, 'ci26513': 4519, 'ci27702': 4520, 'ci26037': 4521, 'ci24269': 4522, 'ci25421': 4523, 'ci24466': 4524, 'ci25340': 4525, 'ci25782': 4526, 'ci25929': 4527, 'ci25841': 4528, 'ci26617': 4529, 'ci26646': 4530, 'ci28204': 4531, 'ci24673': 4532, 'ci27243': 4533, 'ci24084': 4534, 'ci27844': 4535, 'ci27370': 4536, 'ci27854': 4537, 'ci27935': 4538, 'ci28224': 4539, 'ci27069': 4540, 'ci27075': 4541, 'ci26380': 4542, 'ci26671': 4543, 'ci23607': 4544, 'ci27642': 4545, 'ci27112': 4546, 'ci27820': 4547, 'ci28587': 4548, 'ci26570': 4549, 'ci25851': 4550, 'ci24076': 4551, 'ci27856': 4552, 'ci25440': 4553, 'ci27207': 4554, 'ci24242': 4555, 'ci23578': 4556, 'ci23496': 4557, 'ci28899': 4558, 'ci24513': 4559, 'ci23950': 4560, 'ci26231': 4561, 'ci26073': 4562, 'ci27475': 4563, 'ci23601': 4564, 'ci24191': 4565, 'ci25320': 4566, 'ci25763': 4567, 'ci23961': 4568, 'ci26032': 4569, 'ci23759': 4570, 'ci27624': 4571, 'ci24762': 4572, 'ci24754': 4573, 'ci23606': 4574, 'ci26279': 4575, 'ci27189': 4576, 'ci27196': 4577, 'ci26262': 4578, 'ci24546': 4579, 'ci26353': 4580, 'ci28500': 4581, 'ci28482': 4582, 'ci28413': 4583, 'ci28455': 4584, 'ci28367': 4585, 'ci28416': 4586, 'ci26715': 4587, 'ci26144': 4588, 'ci24548': 4589, 'ci24543': 4590, 'ci28780': 4591, 'ci25303': 4592, 'ci25753': 4593, 'ci27492': 4594, 'ci28871': 4595, 'ci24586': 4596, 'ci28858': 4597, 'ci28524': 4598, 'ci26453': 4599, 'ci28235': 4600, 'ci23972': 4601, 'ci28997': 4602, 'ci29010': 4603, 'ci28273': 4604, 'ci28425': 4605, 'ci28965': 4606, 'ci28607': 4607, 'ci28957': 4608, 'ci28648': 4609, 'ci27236': 4610, 'ci28887': 4611, 'ci25965': 4612, 'ci26043': 4613, 'ci24903': 4614, 'ci28010': 4615, 'ci28559': 4616, 'ci26742': 4617, 'ci27122': 4618, 'ci26758': 4619, 'ci28384': 4620, 'ci26113': 4621, 'ci27268': 4622, 'ci25290': 4623, 'ci27111': 4624, 'ci27485': 4625, 'ci27251': 4626, 'ci24336': 4627, 'ci26351': 4628, 'ci26363': 4629, 'ci26358': 4630, 'ci25060': 4631, 'ci26728': 4632, 'ci29013': 4633, 'ci24306': 4634, 'ci27487': 4635, 'ci28740': 4636, 'ci27627': 4637, 'ci28770': 4638, 'ci25171': 4639, 'ci25159': 4640, 'ci28928': 4641, 'ci25786': 4642, 'ci26127': 4643, 'ci25721': 4644, 'ci28029': 4645, 'ci26341': 4646, 'ci26339': 4647, 'ci26356': 4648, 'ci26349': 4649, 'ci26315': 4650, 'ci26348': 4651, 'ci27203': 4652, 'ci25462': 4653, 'ci25887': 4654, 'ci25154': 4655, 'ci27384': 4656, 'ci27199': 4657, 'ci28104': 4658, 'ci26776': 4659, 'ci26788': 4660, 'ci25914': 4661, 'ci26541': 4662, 'ci26373': 4663, 'ci28672': 4664, 'ci28650': 4665, 'ci24379': 4666, 'ci23732': 4667, 'ci27474': 4668, 'ci24837': 4669, 'ci25971': 4670, 'ci28354': 4671, 'ci28415': 4672, 'ci28863': 4673, 'ci26120': 4674, 'ci26587': 4675, 'ci29029': 4676, 'ci28561': 4677, 'ci27739': 4678, 'ci27433': 4679, 'ci27431': 4680, 'ci27337': 4681, 'ci27344': 4682, 'ci27338': 4683, 'ci28741': 4684, 'ci27351': 4685, 'ci27355': 4686, 'ci27335': 4687, 'ci27833': 4688, 'ci24183': 4689, 'ci26546': 4690, 'ci28471': 4691, 'ci24046': 4692, 'ci26350': 4693, 'ci28896': 4694, 'ci26512': 4695, 'ci26514': 4696, 'ci26516': 4697, 'ci28777': 4698, 'ci26146': 4699, 'ci26549': 4700, 'ci28734': 4701, 'ci28684': 4702, 'ci28472': 4703, 'ci28410': 4704, 'ci27953': 4705, 'ci26340': 4706, 'ci27812': 4707, 'ci24713': 4708, 'ci24652': 4709, 'ci24825': 4710, 'ci28468': 4711, 'ci28327': 4712, 'ci28760': 4713, 'ci24582': 4714, 'ci25960': 4715, 'ci28278': 4716, 'ci23707': 4717, 'ci26591': 4718, 'ci26258': 4719, 'ci28338': 4720, 'ci28133': 4721, 'ci28351': 4722, 'ci26080': 4723, 'ci23552': 4724, 'ci25397': 4725, 'ci28560': 4726, 'ci28769': 4727, 'ci27273': 4728, 'ci24628': 4729, 'ci28346': 4730, 'ci28105': 4731, 'ci28280': 4732, 'ci28281': 4733, 'ci28111': 4734, 'ci28024': 4735, 'ci26559': 4736, 'ci29035': 4737, 'ci25897': 4738, 'ci24145': 4739, 'ci24301': 4740, 'ci25583': 4741, 'ci27528': 4742, 'ci27526': 4743, 'ci26576': 4744, 'ci28418': 4745, 'ci27391': 4746, 'ci25886': 4747, 'ci27403': 4748, 'ci27942': 4749, 'ci28543': 4750, 'ci28542': 4751, 'ci28538': 4752, 'ci28540': 4753, 'ci28537': 4754, 'ci28535': 4755, 'ci26152': 4756, 'ci24202': 4757, 'ci26124': 4758, 'ci26713': 4759, 'ci24492': 4760, 'ci27346': 4761, 'ci27354': 4762, 'ci27350': 4763, 'ci27345': 4764, 'ci25656': 4765, 'ci23547': 4766, 'ci27518': 4767, 'ci24495': 4768, 'ci24339': 4769, 'ci28379': 4770, 'ci28782': 4771, 'ci28946': 4772, 'ci27240': 4773, 'ci28872': 4774, 'ci23798': 4775, 'ci28435': 4776, 'ci23538': 4777, 'ci28436': 4778, 'ci27704': 4779, 'ci28633': 4780, 'ci27093': 4781, 'ci28712': 4782, 'ci27321': 4783, 'ci27395': 4784, 'ci28824': 4785, 'ci29078': 4786, 'ci25225': 4787, 'ci27393': 4788, 'ci28688': 4789, 'ci25871': 4790, 'ci26692': 4791, 'ci28743': 4792, 'ci26736': 4793, 'ci24479': 4794, 'ci28941': 4795, 'ci28622': 4796, 'ci27381': 4797, 'ci28901': 4798, 'ci28393': 4799, 'ci28465': 4800, 'ci25582': 4801, 'ci28382': 4802, 'ci25789': 4803, 'ci24545': 4804, 'ci28355': 4805, 'ci27946': 4806, 'ci26661': 4807, 'ci29054': 4808, 'ci28371': 4809, 'ci28742': 4810, 'ci26246': 4811, 'ci26242': 4812, 'ci25697': 4813, 'ci24766': 4814, 'ci25163': 4815, 'ci25484': 4816, 'ci28421': 4817, 'ci28231': 4818, 'ci25783': 4819, 'ci24618': 4820, 'ci26685': 4821, 'ci25431': 4822, 'ci26976': 4823, 'ci27513': 4824, 'ci28825': 4825, 'ci28305': 4826, 'ci23480': 4827, 'ci23611': 4828, 'ci23720': 4829, 'ci25790': 4830, 'ci26085': 4831, 'ci25407': 4832, 'ci28080': 4833, 'ci28059': 4834, 'ci28399': 4835, 'ci26320': 4836, 'ci26492': 4837, 'ci25812': 4838, 'ci25485': 4839, 'ci25487': 4840, 'ci25588': 4841, 'ci26061': 4842, 'ci28951': 4843, 'ci24217': 4844, 'ci28138': 4845, 'ci28892': 4846, 'ci26399': 4847, 'ci26400': 4848, 'ci27515': 4849, 'ci28593': 4850, 'ci25537': 4851, 'ci24794': 4852, 'ci25920': 4853, 'ci25922': 4854, 'ci25921': 4855, 'ci25917': 4856, 'ci24791': 4857, 'ci24789': 4858, 'ci25918': 4859, 'ci28767': 4860, 'ci28689': 4861, 'ci25005': 4862, 'ci27887': 4863, 'ci28787': 4864, 'ci25906': 4865, 'ci27585': 4866, 'ci23816': 4867, 'ci26119': 4868, 'ci25516': 4869, 'ci25819': 4870, 'ci28714': 4871, 'ci26319': 4872, 'ci29046': 4873, 'ci23530': 4874, 'ci29026': 4875, 'ci26580': 4876, 'ci24698': 4877, 'ci27814': 4878, 'ci28514': 4879, 'ci25928': 4880, 'ci29074': 4881, 'ci29079': 4882, 'ci29076': 4883, 'ci24289': 4884, 'ci23905': 4885, 'ci26309': 4886, 'ci26070': 4887, 'ci25653': 4888, 'ci28778': 4889, 'ci28541': 4890, 'ci25788': 4891, 'ci24494': 4892, 'ci28949': 4893, 'ci28784': 4894, 'ci28975': 4895, 'ci26099': 4896, 'ci29073': 4897, 'ci26810': 4898, 'ci26079': 4899, 'ci26092': 4900, 'ci27494': 4901, 'ci27769': 4902, 'ci23499': 4903, 'ci25912': 4904, 'ci25915': 4905, 'ci25911': 4906, 'ci25909': 4907, 'ci26088': 4908, 'ci26090': 4909, 'ci25910': 4910, 'ci25913': 4911, 'ci27183': 4912, 'ci24325': 4913, 'ci24043': 4914, 'ci25328': 4915, 'ci28786': 4916, 'ci25686': 4917, 'ci26270': 4918, 'ci25655': 4919, 'ci23501': 4920, 'ci23543': 4921, 'ci23559': 4922, 'ci28419': 4923, 'ci28710': 4924, 'ci27171': 4925, 'ci28884': 4926, 'ci28077': 4927, 'ci26369': 4928, 'ci29034': 4929, 'ci27604': 4930, 'ci23819': 4931, 'ci27522': 4932, 'ci26039': 4933, 'ci28999': 4934, 'ci28726': 4935, 'ci28378': 4936, 'ci23591': 4937, 'ci27698': 4938, 'ci27699': 4939, 'ci23505': 4940, 'ci23502': 4941, 'ci26759': 4942, 'ci26566': 4943, 'ci26273': 4944, 'ci28274': 4945, 'ci24910': 4946, 'ci29047': 4947, 'ci23713': 4948, 'ci23986': 4949, 'ci28947': 4950, 'ci28268': 4951, 'ci25848': 4952, 'ci28564': 4953, 'ci28398': 4954, 'ci28387': 4955, 'ci25898': 4956, 'ci26252': 4957, 'ci27264': 4958, 'ci27266': 4959, 'ci27319': 4960, 'ci27288': 4961, 'ci27284': 4962, 'ci27283': 4963, 'ci26245': 4964, 'ci23490': 4965, 'ci24378': 4966, 'ci27195': 4967, 'ci28018': 4968, 'ci28017': 4969, 'ci28533': 4970, 'ci28022': 4971, 'ci25916': 4972, 'ci25664': 4973, 'ci28477': 4974, 'ci26269': 4975, 'ci24980': 4976, 'ci28450': 4977, 'ci28679': 4978, 'ci28626': 4979, 'ci28678': 4980, 'ci28324': 4981, 'ci28330': 4982, 'ci28325': 4983, 'ci28332': 4984, 'ci28321': 4985, 'ci28323': 4986, 'ci25610': 4987, 'ci26366': 4988, 'ci27709': 4989, 'ci26518': 4990, 'ci24863': 4991, 'ci24864': 4992, 'ci29008': 4993, 'ci24060': 4994, 'ci27074': 4995, 'ci27512': 4996, 'ci28491': 4997, 'ci29065': 4998, 'ci29064': 4999, 'ci29063': 5000, 'ci26303': 5001, 'ci26729': 5002, 'ci24176': 5003, 'ci23949': 5004, 'ci28845': 5005, 'ci26272': 5006, 'ci28818': 5007, 'ci25943': 5008, 'ci28936': 5009, 'ci24779': 5010, 'ci27162': 5011, 'ci28366': 5012, 'ci28451': 5013, 'ci27851': 5014, 'ci27852': 5015, 'ci25720': 5016, 'ci29020': 5017, 'ci28552': 5018, 'ci28551': 5019, 'ci23558': 5020, 'ci23592': 5021, 'ci26024': 5022, 'ci26025': 5023, 'ci26026': 5024, 'ci23563': 5025, 'ci23845': 5026, 'ci25609': 5027, 'ci26614': 5028, 'ci25888': 5029, 'ci24776': 5030, 'ci24751': 5031, 'ci24702': 5032, 'ci25418': 5033, 'ci25970': 5034, 'ci27999': 5035, 'ci26491': 5036, 'ci23608': 5037, 'ci24519': 5038, 'ci24262': 5039, 'ci26720': 5040, 'ci27178': 5041, 'ci27186': 5042, 'ci24778': 5043, 'ci23595': 5044, 'ci24769': 5045, 'ci25830': 5046, 'ci24320': 5047, 'ci24326': 5048, 'ci25341': 5049, 'ci25535': 5050, 'ci25423': 5051, 'ci27121': 5052, 'ci23528': 5053, 'ci23567': 5054, 'ci28390': 5055, 'ci28412': 5056, 'ci28469': 5057, 'ci28442': 5058, 'ci28488': 5059, 'ci28453': 5060, 'ci27117': 5061, 'ci27984': 5062, 'ci27983': 5063, 'ci28811': 5064, 'ci28827': 5065, 'ci28828': 5066, 'ci24071': 5067, 'ci23890': 5068, 'ci28476': 5069, 'ci27489': 5070, 'ci28511': 5071, 'ci24556': 5072, 'ci25745': 5073, 'ci28361': 5074, 'ci24743': 5075, 'ci27292': 5076, 'ci25722': 5077, 'ci28149': 5078, 'ci28234': 5079, 'ci24290': 5080, 'ci28071': 5081, 'ci28069': 5082, 'ci28696': 5083, 'ci28855': 5084, 'ci27428': 5085, 'ci28298': 5086, 'ci28279': 5087, 'ci24913': 5088, 'ci28497': 5089, 'ci28857': 5090, 'ci29000': 5091, 'ci28998': 5092, 'ci23996': 5093, 'ci24018': 5094, 'ci26346': 5095, 'ci28723': 5096, 'ci28728': 5097, 'ci28732': 5098, 'ci28730': 5099, 'ci28722': 5100, 'ci28737': 5101, 'ci28699': 5102, 'ci26818': 5103, 'ci26582': 5104, 'ci29014': 5105, 'ci28074': 5106, 'ci28434': 5107, 'ci28446': 5108, 'ci28409': 5109, 'ci28385': 5110, 'ci28431': 5111, 'ci24428': 5112, 'ci27714': 5113, 'ci28636': 5114, 'ci28429': 5115, 'ci28703': 5116, 'ci27843': 5117, 'ci28250': 5118, 'ci24186': 5119, 'ci28209': 5120, 'ci28212': 5121, 'ci27063': 5122, 'ci26318': 5123, 'ci26105': 5124, 'ci26008': 5125, 'ci27290': 5126, 'ci28545': 5127, 'ci27941': 5128, 'ci28054': 5129, 'ci23777': 5130, 'ci25019': 5131, 'ci25014': 5132, 'ci25016': 5133, 'ci25021': 5134, 'ci28663': 5135, 'ci28659': 5136, 'ci27950': 5137, 'ci25153': 5138, 'ci25371': 5139, 'ci26551': 5140, 'ci28210': 5141, 'ci25956': 5142, 'ci26223': 5143, 'ci28395': 5144, 'ci26091': 5145, 'ci23976': 5146, 'ci27768': 5147, 'ci28644': 5148, 'ci27705': 5149, 'ci28590': 5150, 'ci25757': 5151, 'ci25544': 5152, 'ci23818': 5153, 'ci27895': 5154, 'ci26121': 5155, 'ci26110': 5156, 'ci26123': 5157, 'ci28960': 5158, 'ci28959': 5159, 'ci28864': 5160, 'ci28205': 5161, 'ci28243': 5162, 'ci24709': 5163, 'ci28445': 5164, 'ci27225': 5165, 'ci29051': 5166, 'ci23643': 5167, 'ci26063': 5168, 'ci28642': 5169, 'ci26019': 5170, 'ci27532': 5171, 'ci29043': 5172, 'ci29066': 5173, 'ci27481': 5174, 'ci27493': 5175, 'ci27483': 5176, 'ci27482': 5177, 'ci26577': 5178, 'ci27869': 5179, 'ci29044': 5180, 'ci28966': 5181, 'ci28654': 5182, 'ci26378': 5183, 'ci25801': 5184, 'ci28420': 5185, 'ci29061': 5186, 'ci28428': 5187, 'ci28349': 5188, 'ci26806': 5189, 'ci27758': 5190, 'ci28613': 5191, 'ci26118': 5192, 'ci26543': 5193, 'ci24304': 5194, 'ci28779': 5195, 'ci28646': 5196, 'ci27153': 5197, 'ci28375': 5198, 'ci26738': 5199, 'ci26741': 5200, 'ci28381': 5201, 'ci25483': 5202, 'ci28788': 5203, 'ci28775': 5204, 'ci24127': 5205, 'ci28221': 5206, 'ci28643': 5207, 'ci28076': 5208, 'ci28937': 5209, 'ci28954': 5210, 'ci29033': 5211, 'ci29009': 5212, 'ci25170': 5213, 'ci27486': 5214, 'ci29075': 5215, 'ci29080': 5216, 'ci29067': 5217, 'ci29021': 5218, 'ci26533': 5219, 'ci28287': 5220, 'ci27287': 5221, 'ci27892': 5222, 'ci27893': 5223, 'ci27899': 5224, 'ci27891': 5225, 'ci27898': 5226, 'ci28776': 5227, 'ci28889': 5228, 'ci28772': 5229, 'ci26264': 5230, 'ci28474': 5231, 'ci26612': 5232, 'ci28662': 5233, 'ci28554': 5234, 'ci27593': 5235, 'ci29017': 5236, 'ci24168': 5237, 'ci26031': 5238, 'ci28761': 5239, 'ci23582': 5240, 'ci25896': 5241, 'ci27945': 5242, 'ci26477': 5243, 'ci27523': 5244, 'ci26769': 5245, 'ci26813': 5246, 'ci27832': 5247, 'ci28015': 5248, 'ci27237': 5249, 'ci27280': 5250, 'ci28771': 5251, 'ci27055': 5252, 'ci28000': 5253, 'ci28862': 5254, 'ci26045': 5255, 'ci25347': 5256, 'ci25530': 5257, 'ci28391': 5258, 'ci26567': 5259, 'ci28707': 5260, 'ci25890': 5261, 'ci25800': 5262, 'ci28406': 5263, 'ci26812': 5264, 'ci24283': 5265, 'ci24282': 5266, 'ci28145': 5267, 'ci28816': 5268, 'ci29058': 5269, 'ci27357': 5270, 'ci26592': 5271, 'ci28499': 5272, 'ci28762': 5273, 'ci25768': 5274, 'ci25374': 5275, 'ci23851': 5276, 'ci25934': 5277, 'ci24305': 5278, 'ci28687': 5279, 'ci26261': 5280, 'ci27954': 5281, 'ci26257': 5282, 'ci27517': 5283, 'ci24568': 5284, 'ci25453': 5285, 'ci24630': 5286, 'ci24816': 5287, 'ci27304': 5288, 'ci24402': 5289, 'ci27825': 5290, 'ci26771': 5291, 'ci24293': 5292, 'ci25855': 5293, 'ci23717': 5294, 'ci25797': 5295, 'ci25327': 5296, 'ci27382': 5297, 'ci27310': 5298, 'ci27306': 5299, 'ci27311': 5300, 'ci27369': 5301, 'ci27307': 5302, 'ci27305': 5303, 'ci28266': 5304, 'ci26095': 5305, 'ci28705': 5306, 'ci26021': 5307, 'ci27113': 5308, 'ci27116': 5309, 'ci28619': 5310, 'ci28652': 5311, 'ci28649': 5312, 'ci25560': 5313, 'ci24792': 5314, 'ci28228': 5315, 'ci28226': 5316, 'ci28227': 5317, 'ci28230': 5318, 'ci26086': 5319, 'ci28812': 5320, 'ci24710': 5321, 'ci28814': 5322, 'ci28443': 5323, 'ci28591': 5324, 'ci28372': 5325, 'ci28373': 5326, 'ci24324': 5327, 'ci27645': 5328, 'ci25923': 5329, 'ci23881': 5330, 'ci28624': 5331, 'ci27764': 5332, 'ci27244': 5333, 'ci27641': 5334, 'ci24858': 5335, 'ci24745': 5336, 'ci24827': 5337, 'ci24478': 5338, 'ci27516': 5339, 'ci24332': 5340, 'ci27159': 5341, 'ci28667': 5342, 'ci28664': 5343, 'ci25931': 5344, 'ci28657': 5345, 'ci28611': 5346, 'ci25967': 5347, 'ci27413': 5348}\n",
            "5349\n"
          ],
          "name": "stdout"
        }
      ]
    },
    {
      "cell_type": "code",
      "metadata": {
        "id": "c7GVpv26UQq_",
        "colab_type": "code",
        "colab": {}
      },
      "source": [
        "input_sequences_x = []\n",
        "input_sequences = []\n",
        "input_y = []\n",
        "for line in corpus:\n",
        "  token_list = tokenizer.texts_to_sequences([line])[0]\n",
        "  for i in range(10, len(token_list)):\n",
        "    n_gram_sequence = token_list[:i+1]\n",
        "    input_sequences.append(n_gram_sequence)"
      ],
      "execution_count": 16,
      "outputs": []
    },
    {
      "cell_type": "code",
      "metadata": {
        "id": "Qe1IzoRqVZ-t",
        "colab_type": "code",
        "colab": {
          "base_uri": "https://localhost:8080/",
          "height": 199
        },
        "outputId": "e11db18e-39d3-4ede-f921-813d884c8f91"
      },
      "source": [
        "input_sequences[:10]"
      ],
      "execution_count": 17,
      "outputs": [
        {
          "output_type": "execute_result",
          "data": {
            "text/plain": [
              "[[6, 11, 14, 18, 37, 9, 5, 35, 7, 1, 2],\n",
              " [6, 11, 14, 18, 37, 9, 5, 35, 7, 1, 2, 4],\n",
              " [6, 11, 14, 18, 37, 9, 5, 35, 7, 1, 2, 4, 3],\n",
              " [6, 104, 19, 14, 18, 2, 100, 37, 34, 7, 1],\n",
              " [6, 104, 19, 14, 18, 2, 100, 37, 34, 7, 1, 4],\n",
              " [6, 104, 19, 14, 18, 2, 100, 37, 34, 7, 1, 4, 8],\n",
              " [261, 354, 251, 191, 259, 281, 219, 315, 222, 192, 212],\n",
              " [261, 354, 251, 191, 259, 281, 219, 315, 222, 192, 212, 297],\n",
              " [261, 354, 251, 191, 259, 281, 219, 315, 222, 192, 212, 297, 249],\n",
              " [6, 14, 18, 2, 34, 5, 116, 35, 30, 7, 1]]"
            ]
          },
          "metadata": {
            "tags": []
          },
          "execution_count": 17
        }
      ]
    },
    {
      "cell_type": "code",
      "metadata": {
        "id": "xBxpFmPgbYBt",
        "colab_type": "code",
        "colab": {
          "base_uri": "https://localhost:8080/",
          "height": 35
        },
        "outputId": "938d2aaa-5148-4bb6-94f1-7dec2579857f"
      },
      "source": [
        "type(input_sequences), type(input_sequences[0])"
      ],
      "execution_count": 18,
      "outputs": [
        {
          "output_type": "execute_result",
          "data": {
            "text/plain": [
              "(list, list)"
            ]
          },
          "metadata": {
            "tags": []
          },
          "execution_count": 18
        }
      ]
    },
    {
      "cell_type": "code",
      "metadata": {
        "id": "pgrgBrefVeOg",
        "colab_type": "code",
        "colab": {}
      },
      "source": [
        "# pad sequences\n",
        "max_sequences_len = 13\n",
        "input_sequences = pad_sequences(input_sequences, maxlen=max_sequences_len, padding='pre')\n",
        "#input_y = np.array(input_y)\n",
        "input_sequences_x = input_sequences[:,:-1]\n",
        "input_y = input_sequences[:,-1:]"
      ],
      "execution_count": 19,
      "outputs": []
    },
    {
      "cell_type": "code",
      "metadata": {
        "id": "O_v5Y6uGDLKl",
        "colab_type": "code",
        "colab": {
          "base_uri": "https://localhost:8080/",
          "height": 217
        },
        "outputId": "d2cc56c6-4e79-4704-ea63-885bf13c9917"
      },
      "source": [
        "input_sequences_x[:10]"
      ],
      "execution_count": 20,
      "outputs": [
        {
          "output_type": "execute_result",
          "data": {
            "text/plain": [
              "array([[  0,   0,   6,  11,  14,  18,  37,   9,   5,  35,   7,   1],\n",
              "       [  0,   6,  11,  14,  18,  37,   9,   5,  35,   7,   1,   2],\n",
              "       [  6,  11,  14,  18,  37,   9,   5,  35,   7,   1,   2,   4],\n",
              "       [  0,   0,   6, 104,  19,  14,  18,   2, 100,  37,  34,   7],\n",
              "       [  0,   6, 104,  19,  14,  18,   2, 100,  37,  34,   7,   1],\n",
              "       [  6, 104,  19,  14,  18,   2, 100,  37,  34,   7,   1,   4],\n",
              "       [  0,   0, 261, 354, 251, 191, 259, 281, 219, 315, 222, 192],\n",
              "       [  0, 261, 354, 251, 191, 259, 281, 219, 315, 222, 192, 212],\n",
              "       [261, 354, 251, 191, 259, 281, 219, 315, 222, 192, 212, 297],\n",
              "       [  0,   0,   6,  14,  18,   2,  34,   5, 116,  35,  30,   7]],\n",
              "      dtype=int32)"
            ]
          },
          "metadata": {
            "tags": []
          },
          "execution_count": 20
        }
      ]
    },
    {
      "cell_type": "code",
      "metadata": {
        "id": "5XnUJ2bvbbFm",
        "colab_type": "code",
        "colab": {
          "base_uri": "https://localhost:8080/",
          "height": 35
        },
        "outputId": "eb97f885-9421-4627-d982-d955a26ee124"
      },
      "source": [
        "type(input_sequences_x), type(input_sequences_x[0]), input_sequences_x.shape"
      ],
      "execution_count": 21,
      "outputs": [
        {
          "output_type": "execute_result",
          "data": {
            "text/plain": [
              "(numpy.ndarray, numpy.ndarray, (208596, 12))"
            ]
          },
          "metadata": {
            "tags": []
          },
          "execution_count": 21
        }
      ]
    },
    {
      "cell_type": "code",
      "metadata": {
        "id": "O319B_D7WAbZ",
        "colab_type": "code",
        "colab": {
          "base_uri": "https://localhost:8080/",
          "height": 199
        },
        "outputId": "d69591c4-d3c8-44d5-f29f-5fc1ca466f44"
      },
      "source": [
        "input_y[:10] "
      ],
      "execution_count": 22,
      "outputs": [
        {
          "output_type": "execute_result",
          "data": {
            "text/plain": [
              "array([[  2],\n",
              "       [  4],\n",
              "       [  3],\n",
              "       [  1],\n",
              "       [  4],\n",
              "       [  8],\n",
              "       [212],\n",
              "       [297],\n",
              "       [249],\n",
              "       [  1]], dtype=int32)"
            ]
          },
          "metadata": {
            "tags": []
          },
          "execution_count": 22
        }
      ]
    },
    {
      "cell_type": "code",
      "metadata": {
        "id": "9qPASoEkWEdR",
        "colab_type": "code",
        "colab": {
          "base_uri": "https://localhost:8080/",
          "height": 35
        },
        "outputId": "c87f5970-c49b-4d68-804b-9d60c05ccfce"
      },
      "source": [
        "type(input_y), type(input_y[0])"
      ],
      "execution_count": 23,
      "outputs": [
        {
          "output_type": "execute_result",
          "data": {
            "text/plain": [
              "(numpy.ndarray, numpy.ndarray)"
            ]
          },
          "metadata": {
            "tags": []
          },
          "execution_count": 23
        }
      ]
    },
    {
      "cell_type": "code",
      "metadata": {
        "id": "Us7VBSJHWQpZ",
        "colab_type": "code",
        "colab": {}
      },
      "source": [
        "#input_y =  np.array([np.array(i, dtype='object') for i in input_y], dtype='object')"
      ],
      "execution_count": 24,
      "outputs": []
    },
    {
      "cell_type": "code",
      "metadata": {
        "id": "RSAyzYFSep97",
        "colab_type": "code",
        "colab": {
          "base_uri": "https://localhost:8080/",
          "height": 35
        },
        "outputId": "ea71c009-4ddf-46a9-fb5b-2dc76898e27e"
      },
      "source": [
        "type(input_y), type(input_y[0]), (input_y.shape)"
      ],
      "execution_count": 25,
      "outputs": [
        {
          "output_type": "execute_result",
          "data": {
            "text/plain": [
              "(numpy.ndarray, numpy.ndarray, (208596, 1))"
            ]
          },
          "metadata": {
            "tags": []
          },
          "execution_count": 25
        }
      ]
    },
    {
      "cell_type": "code",
      "metadata": {
        "id": "yIKmLH_nWm80",
        "colab_type": "code",
        "colab": {}
      },
      "source": [
        "#xs = tf.keras.utils.to_categorical(input_sequences_x, num_classes=total_words, dtype='int8')\n",
        "ys = tf.keras.utils.to_categorical(input_y, num_classes=total_words, dtype='int8')"
      ],
      "execution_count": 26,
      "outputs": []
    },
    {
      "cell_type": "code",
      "metadata": {
        "id": "at-uk0OHW6SW",
        "colab_type": "code",
        "colab": {
          "base_uri": "https://localhost:8080/",
          "height": 35
        },
        "outputId": "52b48126-ccea-4d5a-afda-2c2cde0d35d7"
      },
      "source": [
        "ys.shape"
      ],
      "execution_count": 27,
      "outputs": [
        {
          "output_type": "execute_result",
          "data": {
            "text/plain": [
              "(208596, 5349)"
            ]
          },
          "metadata": {
            "tags": []
          },
          "execution_count": 27
        }
      ]
    },
    {
      "cell_type": "code",
      "metadata": {
        "id": "5x0t9fi6gYSh",
        "colab_type": "code",
        "colab": {
          "base_uri": "https://localhost:8080/",
          "height": 399
        },
        "outputId": "3cff5c57-0de4-4641-9f78-89e3a2b0b51e"
      },
      "source": [
        "model = Sequential()\n",
        "model.add(Embedding(total_words, 100, input_length=10))\n",
        "model.add(Bidirectional(LSTM(150, return_sequences = True)))\n",
        "model.add(Dropout(0.2))\n",
        "model.add(LSTM(100))\n",
        "model.add(Dense(total_words/2, activation='relu', kernel_regularizer=regularizers.l2(0.01)))\n",
        "model.add(Dense(total_words, activation='softmax'))\n",
        "model.compile(loss='categorical_crossentropy', optimizer='adam', metrics=['accuracy'])\n",
        "print(model.summary())"
      ],
      "execution_count": 28,
      "outputs": [
        {
          "output_type": "stream",
          "text": [
            "Model: \"sequential\"\n",
            "_________________________________________________________________\n",
            "Layer (type)                 Output Shape              Param #   \n",
            "=================================================================\n",
            "embedding (Embedding)        (None, 10, 100)           534900    \n",
            "_________________________________________________________________\n",
            "bidirectional (Bidirectional (None, 10, 300)           301200    \n",
            "_________________________________________________________________\n",
            "dropout (Dropout)            (None, 10, 300)           0         \n",
            "_________________________________________________________________\n",
            "lstm_1 (LSTM)                (None, 100)               160400    \n",
            "_________________________________________________________________\n",
            "dense (Dense)                (None, 2674)              270074    \n",
            "_________________________________________________________________\n",
            "dense_1 (Dense)              (None, 5349)              14308575  \n",
            "=================================================================\n",
            "Total params: 15,575,149\n",
            "Trainable params: 15,575,149\n",
            "Non-trainable params: 0\n",
            "_________________________________________________________________\n",
            "None\n"
          ],
          "name": "stdout"
        }
      ]
    },
    {
      "cell_type": "code",
      "metadata": {
        "id": "YQ5ApeKrd0Cv",
        "colab_type": "code",
        "colab": {
          "base_uri": "https://localhost:8080/",
          "height": 437
        },
        "outputId": "36e18bef-9b10-42ce-878a-24d75e1c55bf"
      },
      "source": [
        " history = model.fit(input_sequences_x, ys, epochs=10, verbose=1)"
      ],
      "execution_count": 29,
      "outputs": [
        {
          "output_type": "stream",
          "text": [
            "Epoch 1/10\n",
            "WARNING:tensorflow:Model was constructed with shape (None, 10) for input Tensor(\"embedding_input:0\", shape=(None, 10), dtype=float32), but it was called on an input with incompatible shape (None, 12).\n",
            "WARNING:tensorflow:Model was constructed with shape (None, 10) for input Tensor(\"embedding_input:0\", shape=(None, 10), dtype=float32), but it was called on an input with incompatible shape (None, 12).\n",
            "6519/6519 [==============================] - 101s 15ms/step - loss: 3.8908 - accuracy: 0.2053\n",
            "Epoch 2/10\n",
            "6519/6519 [==============================] - 101s 15ms/step - loss: 3.0458 - accuracy: 0.3093\n",
            "Epoch 3/10\n",
            "6519/6519 [==============================] - 101s 15ms/step - loss: 2.8041 - accuracy: 0.3471\n",
            "Epoch 4/10\n",
            "6519/6519 [==============================] - 101s 15ms/step - loss: 2.6439 - accuracy: 0.3743\n",
            "Epoch 5/10\n",
            "6519/6519 [==============================] - 101s 16ms/step - loss: 2.5230 - accuracy: 0.3944\n",
            "Epoch 6/10\n",
            "6519/6519 [==============================] - 100s 15ms/step - loss: 2.4216 - accuracy: 0.4128\n",
            "Epoch 7/10\n",
            "6519/6519 [==============================] - 101s 15ms/step - loss: 2.3313 - accuracy: 0.4307\n",
            "Epoch 8/10\n",
            "6519/6519 [==============================] - 100s 15ms/step - loss: 2.2539 - accuracy: 0.4453\n",
            "Epoch 9/10\n",
            "6519/6519 [==============================] - 100s 15ms/step - loss: 2.1827 - accuracy: 0.4585\n",
            "Epoch 10/10\n",
            "6519/6519 [==============================] - 99s 15ms/step - loss: 2.1189 - accuracy: 0.4723\n"
          ],
          "name": "stdout"
        }
      ]
    },
    {
      "cell_type": "code",
      "metadata": {
        "id": "gI0zk31aixDL",
        "colab_type": "code",
        "colab": {
          "base_uri": "https://localhost:8080/",
          "height": 545
        },
        "outputId": "e3aea31a-c66c-49dc-964f-c97bb9de5654"
      },
      "source": [
        "import matplotlib.pyplot as plt\n",
        "acc = history.history['accuracy']\n",
        "loss = history.history['loss']\n",
        "\n",
        "epochs = range(len(acc))\n",
        "\n",
        "plt.plot(epochs, acc, 'b', label='Training accuracy')\n",
        "plt.title('Training accuracy')\n",
        "\n",
        "plt.figure()\n",
        "\n",
        "plt.plot(epochs, loss, 'b', label='Training Loss')\n",
        "plt.title('Training loss')\n",
        "plt.legend()\n",
        "\n",
        "plt.show()"
      ],
      "execution_count": 30,
      "outputs": [
        {
          "output_type": "display_data",
          "data": {
            "image/png": "[encoded data removed]",
            "text/plain": [
              "<Figure size 432x288 with 1 Axes>"
            ]
          },
          "metadata": {
            "tags": [],
            "needs_background": "light"
          }
        },
        {
          "output_type": "display_data",
          "data": {
            "image/png": "[encoded data removed]",
            "text/plain": [
              "<Figure size 432x288 with 1 Axes>"
            ]
          },
          "metadata": {
            "tags": [],
            "needs_background": "light"
          }
        }
      ]
    },
    {
      "cell_type": "code",
      "metadata": {
        "id": "xtZzCZd9jxcq",
        "colab_type": "code",
        "colab": {}
      },
      "source": [
        "model.save_weights(\"model.h5\")"
      ],
      "execution_count": 32,
      "outputs": []
    },
    {
      "cell_type": "code",
      "metadata": {
        "id": "Hl_i5rpupOSB",
        "colab_type": "code",
        "colab": {
          "base_uri": "https://localhost:8080/",
          "height": 36
        },
        "outputId": "a4f5a3fe-bdce-4ea5-bf45-931bc06c72e5"
      },
      "source": [
        "concat_test = test.groupby(\"user_id\").agg({\"challenge\": lambda x: ' '.join(set(x.dropna()))})\n",
        "concat_test = concat_test.reset_index(drop=True)\n",
        "concat_test[\"challenge\"][0]"
      ],
      "execution_count": 35,
      "outputs": [
        {
          "output_type": "execute_result",
          "data": {
            "application/vnd.google.colaboratory.intrinsic": {
              "type": "string"
            },
            "text/plain": [
              "'CI23933 CI25727 CI24915 CI24958 CI25135 CI23855 CI23714 CI24530 CI23663 CI24917'"
            ]
          },
          "metadata": {
            "tags": []
          },
          "execution_count": 35
        }
      ]
    },
    {
      "cell_type": "code",
      "metadata": {
        "id": "FMyko6BGkLrP",
        "colab_type": "code",
        "colab": {}
      },
      "source": [
        "def getop(seed_text,next_words):  \n",
        "  for _ in range(next_words):\n",
        "    token_list = tokenizer.texts_to_sequences([seed_text])[0]\n",
        "    token_list = pad_sequences([token_list], maxlen=10, padding='pre')\n",
        "    predicted = np.argmax(model.predict(token_list), axis=-1)\n",
        "    output_word = \"\"\n",
        "    for word, index in tokenizer.word_index.items():\n",
        "      if index == predicted:\n",
        "        output_word = word\n",
        "        break\n",
        "    seed_text += \" \" + output_word.upper()\n",
        "  return seed_text.split(\" \")[-3:]"
      ],
      "execution_count": 37,
      "outputs": []
    },
    {
      "cell_type": "code",
      "metadata": {
        "id": "22XN8R9GpCD6",
        "colab_type": "code",
        "colab": {
          "base_uri": "https://localhost:8080/",
          "height": 53
        },
        "outputId": "bc19cde5-8eed-461d-e81c-536ad3d1c83e"
      },
      "source": [
        "%%time\n",
        "op_list = []\n",
        "for i in range(len(concat_test)):\n",
        "  seed_text = concat_test[\"challenge\"][i]\n",
        "  next_words = 3\n",
        "  op_list.append(getop(seed_text,next_words))"
      ],
      "execution_count": 39,
      "outputs": [
        {
          "output_type": "stream",
          "text": [
            "CPU times: user 49min 22s, sys: 1min 34s, total: 50min 57s\n",
            "Wall time: 48min 43s\n"
          ],
          "name": "stdout"
        }
      ]
    },
    {
      "cell_type": "code",
      "metadata": {
        "id": "nb9CIemBpJa7",
        "colab_type": "code",
        "colab": {}
      },
      "source": [
        "sub[\"challenge\"] = np.array(op_list).reshape(-1,1)"
      ],
      "execution_count": 40,
      "outputs": []
    },
    {
      "cell_type": "code",
      "metadata": {
        "id": "Fk8WMPK7qLRb",
        "colab_type": "code",
        "colab": {
          "base_uri": "https://localhost:8080/",
          "height": 424
        },
        "outputId": "8137f5f8-e53b-4649-810c-0fe61f65ba4f"
      },
      "source": [
        "sub"
      ],
      "execution_count": 41,
      "outputs": [
        {
          "output_type": "execute_result",
          "data": {
            "text/html": [
              "<div>\n",
              "<style scoped>\n",
              "    .dataframe tbody tr th:only-of-type {\n",
              "        vertical-align: middle;\n",
              "    }\n",
              "\n",
              "    .dataframe tbody tr th {\n",
              "        vertical-align: top;\n",
              "    }\n",
              "\n",
              "    .dataframe thead th {\n",
              "        text-align: right;\n",
              "    }\n",
              "</style>\n",
              "<table border=\"1\" class=\"dataframe\">\n",
              "  <thead>\n",
              "    <tr style=\"text-align: right;\">\n",
              "      <th></th>\n",
              "      <th>user_sequence</th>\n",
              "      <th>challenge</th>\n",
              "    </tr>\n",
              "  </thead>\n",
              "  <tbody>\n",
              "    <tr>\n",
              "      <th>0</th>\n",
              "      <td>4577_11</td>\n",
              "      <td>CI23663</td>\n",
              "    </tr>\n",
              "    <tr>\n",
              "      <th>1</th>\n",
              "      <td>4577_12</td>\n",
              "      <td>CI23856</td>\n",
              "    </tr>\n",
              "    <tr>\n",
              "      <th>2</th>\n",
              "      <td>4577_13</td>\n",
              "      <td>CI24968</td>\n",
              "    </tr>\n",
              "    <tr>\n",
              "      <th>3</th>\n",
              "      <td>4578_11</td>\n",
              "      <td>CI23663</td>\n",
              "    </tr>\n",
              "    <tr>\n",
              "      <th>4</th>\n",
              "      <td>4578_12</td>\n",
              "      <td>CI24522</td>\n",
              "    </tr>\n",
              "    <tr>\n",
              "      <th>...</th>\n",
              "      <td>...</td>\n",
              "      <td>...</td>\n",
              "    </tr>\n",
              "    <tr>\n",
              "      <th>119191</th>\n",
              "      <td>113834_12</td>\n",
              "      <td>CI25052</td>\n",
              "    </tr>\n",
              "    <tr>\n",
              "      <th>119192</th>\n",
              "      <td>113834_13</td>\n",
              "      <td>CI24917</td>\n",
              "    </tr>\n",
              "    <tr>\n",
              "      <th>119193</th>\n",
              "      <td>113838_11</td>\n",
              "      <td>CI23663</td>\n",
              "    </tr>\n",
              "    <tr>\n",
              "      <th>119194</th>\n",
              "      <td>113838_12</td>\n",
              "      <td>CI24868</td>\n",
              "    </tr>\n",
              "    <tr>\n",
              "      <th>119195</th>\n",
              "      <td>113838_13</td>\n",
              "      <td>CI23855</td>\n",
              "    </tr>\n",
              "  </tbody>\n",
              "</table>\n",
              "<p>119196 rows × 2 columns</p>\n",
              "</div>"
            ],
            "text/plain": [
              "       user_sequence challenge\n",
              "0            4577_11   CI23663\n",
              "1            4577_12   CI23856\n",
              "2            4577_13   CI24968\n",
              "3            4578_11   CI23663\n",
              "4            4578_12   CI24522\n",
              "...              ...       ...\n",
              "119191     113834_12   CI25052\n",
              "119192     113834_13   CI24917\n",
              "119193     113838_11   CI23663\n",
              "119194     113838_12   CI24868\n",
              "119195     113838_13   CI23855\n",
              "\n",
              "[119196 rows x 2 columns]"
            ]
          },
          "metadata": {
            "tags": []
          },
          "execution_count": 41
        }
      ]
    },
    {
      "cell_type": "code",
      "metadata": {
        "id": "4sgX4LgqqTx0",
        "colab_type": "code",
        "colab": {}
      },
      "source": [
        "sub.to_csv(\"submit.csv\",index=False)"
      ],
      "execution_count": 42,
      "outputs": []
    },
    {
      "cell_type": "code",
      "metadata": {
        "id": "ujPk2qbW2Hto",
        "colab_type": "code",
        "colab": {}
      },
      "source": [
        ""
      ],
      "execution_count": null,
      "outputs": []
    }
  ]
}